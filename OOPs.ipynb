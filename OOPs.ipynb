{
  "nbformat": 4,
  "nbformat_minor": 0,
  "metadata": {
    "colab": {
      "provenance": [],
      "authorship_tag": "ABX9TyPaI5i7Fw0BdK/Az8E2yfh+",
      "include_colab_link": true
    },
    "kernelspec": {
      "name": "python3",
      "display_name": "Python 3"
    },
    "language_info": {
      "name": "python"
    }
  },
  "cells": [
    {
      "cell_type": "markdown",
      "metadata": {
        "id": "view-in-github",
        "colab_type": "text"
      },
      "source": [
        "<a href=\"https://colab.research.google.com/github/iamrafinawaz/Data-Analytics/blob/main/OOPs.ipynb\" target=\"_parent\"><img src=\"https://colab.research.google.com/assets/colab-badge.svg\" alt=\"Open In Colab\"/></a>"
      ]
    },
    {
      "cell_type": "markdown",
      "source": [
        "1. What is Object-Oriented Programming (OOP)?\n",
        "\n",
        "Ans.\n",
        "Object-Oriented Programming (OOP) is a programming paradigm based on \"objects,\" which are instances of classes. Key concepts include classes, objects, encapsulation, inheritance, polymorphism, and abstraction. These principles help in structuring code to be more modular, reusable, and maintainable, making it easier to manage complex software projects.\n",
        "\n",
        "2. What is a class in OOP?\n",
        "\n",
        "Ans.\n",
        "In Object-Oriented Programming (OOP), a class is a blueprint for creating objects. It defines the attributes (properties) and methods (behaviors) that the objects created from the class will have, enabling the creation of structured and reusable code.\n",
        "\n",
        "3.  What is an object in OOP?\n",
        "\n",
        "Ans.\n",
        "In Object-Oriented Programming (OOP), an object is an instance of a class. It represents a real-world entity with specific attributes (properties) and methods (behaviors) defined by its class. Objects are the building blocks of OOP, enabling modular, reusable, and organized code.\n",
        "\n",
        "4. What is the difference between abstraction and encapsulation?\n",
        "\n",
        "Ans.\n",
        " Abstraction simplifies complex systems by modeling classes based on essential properties, hiding unnecessary details. Encapsulation binds data and methods within a class, restricting access to some components to maintain integrity. Abstraction focuses on ideas; encapsulation  protectc and organize the code.\n",
        "\n",
        " 5.  What are dunder methods in Python?\n",
        "\n",
        " Ans.\n",
        " Dunder methods in Python, like `__init__()` and `__str__()`, are special methods with double underscores at the start and end. They enable special behaviors in objects, like initializing an object or defining its string representation, customizing how objects interact and behave.\n",
        "\n",
        "6. Explain the concept of inheritance in OOP ?\n",
        "\n",
        "Ans.\n",
        "Inheritance in Object-Oriented Programming (OOP) allows a new class to inherit properties and methods from an existing class. This creates a hierarchy, enabling code reuse and the creation of more complex structures. It's like a child inheriting traits from their parents.\n",
        "\n",
        "7.  What is polymorphism in OOP ?\n",
        "\n",
        "Ans.\n",
        "Polymorphism in Object-Oriented Programming (OOP) allows objects of different classes to be treated as objects of a common superclass. It enables the same method to work differently based on the object calling it.\n",
        "\n",
        "8. How is encapsulation achieved in Python ?\n",
        "\n",
        "Ans.\n",
        "In Python, encapsulation is achieved using classes. We define a class with attributes and methods, and use access modifiers like underscores (_ or __) to restrict access to certain components. This way, the internal state of an object is protected and can be modified only through defined methods.\n",
        "\n",
        "9. What is a constructor in Python?\n",
        "\n",
        "Ans.\n",
        "A constructor in Python is a special method used to initialize objects of a class. It's defined using the __init__() method. When we create a new instance of a class, the constructor is automatically called to set up the initial state of the object by assigning values to its attributes.\n",
        "\n",
        "10. What are class and static methods in Python?\n",
        "\n",
        "Ans.\n",
        "Class methods use @classmethod decorator and can modify class state. They take cls as the first parameter.\n",
        "\n",
        "Static methods use @staticmethod decorator and don't modify class or instance state. They operate like regular functions but belong to the class's namespace.\n",
        "\n",
        "11. What is method overloading in Python ?\n",
        "\n",
        "Ans.\n",
        "\n",
        "\n",
        "Python doesn't support method overloading like some other languages. Instead, we can use default arguments or `*args` and `**kwargs` to allow a single method to handle different numbers and types of arguments, achieving similar functionality.\n",
        "\n",
        "12. What is method overriding in OOP?\n",
        "\n",
        "Ans.\n",
        " Method in parent class and child class with same signature, the child class method will be executed.\n",
        "\n",
        "13. What is a property decorator in Python ?\n",
        "\n",
        "Ans.\n",
        "A property decorator in Python, denoted by `@property`, allows us to define methods that can be accessed like attributes. It provides a way to use getters and setters in a clean, readable manner, enhancing encapsulation and control over attribute access.\n",
        "\n",
        "14.  Why is polymorphism important in OOP ?\n",
        "\n",
        "Ans.\n",
        "Polymorphism is crucial in Object-Oriented Programming (OOP) because it allows objects of different classes to be treated as instances of a common superclass. This enables code flexibility and reusability, as the same method can operate differently based on the object, simplifying code management and enhancing scalability.\n",
        "\n",
        "15.  What is an abstract class in Python ?\n",
        "\n",
        "Ans.\n",
        "An abstract class in Python, using the `abc` module, can't be instantiated and includes abstract methods without implementation. It's a template for other classes to ensure they implement specific methods, promoting code consistency and structure.\n",
        "\n",
        "16. What are the advantages of OOP ?\n",
        "\n",
        "Ans.\n",
        "Object-Oriented Programming (OOP) offers advantages like modularity, code reuse, and maintainability. It simplifies complex systems through classes and objects, enhances code organization, and promotes efficient collaboration by allowing shared and extendable code structures.\n",
        "\n",
        "17.  What is the difference between a class variable and an instance variable?\n",
        "\n",
        "Ans.\n",
        "Class variables are shared among all instances of a class, meaning they hold the same value for every object created from that class. Instance variables, on the other hand, are unique to each object, holding different values for each instance. They help store specific data for each object.\n",
        "\n",
        "\n",
        "18.  What is multiple inheritance in Python?\n",
        "\n",
        "Ans.\n",
        "Multiple inheritance in Python allows a class to inherit attributes and methods from more than one parent class.\n",
        "\n",
        "19. Explain the purpose of ‘’__str__’ and ‘__repr__’ ‘ methods in Python?\n",
        "\n",
        "Ans.\n",
        "__str__() is used to provide a readable, informal string representation of an object for end-users. It's what gets called by print().\n",
        "\n",
        "__repr__() provides an official, detailed string representation for developers, aiming to be unambiguous and often used for debugging.\n",
        "\n",
        "20. What is the significance of the ‘super()’ function in Python?\n",
        "\n",
        "Ans.\n",
        "The super() function in Python is used to call a method from a parent class. This is particularly useful in inheritance, as it allows us to access and extend the functionality of the parent class's methods without repeating code.\n",
        "\n",
        "21. What is the significance of the __del__ method in Python?\n",
        "\n",
        "Ans.\n",
        "The __del__ method in Python is a special method, also known as a destructor, which is called when an object is about to be destroyed.\n",
        "\n",
        "22.  What is the difference between @staticmethod and @classmethod in Python?\n",
        "\n",
        "Ans.\n",
        "@staticmethod: Defines a method that belongs to the class but doesn't access or modify the class or instance state. It's like a regular function inside the class.\n",
        "\n",
        "@classmethod: Defines a method that belongs to the class and can access or modify the class state. It takes cls as the first parameter, representing the class itself.\n",
        "\n",
        "23. How does polymorphism work in Python with inheritance?\n",
        "\n",
        "Ans.\n",
        "Polymorphism in Python with inheritance allows objects of different classes to be treated as objects of a common superclass. This enables methods to operate differently based on the object.\n",
        "\n",
        "24.  What is method chaining in Python OOP?\n",
        "\n",
        "Ans.\n",
        "Method chaining in Python OOP allows us to call multiple methods on the same object in a single line by returning self from each method. This makes code concise and readable.\n",
        "\n",
        "25. What is the purpose of the __call__ method in Python?\n",
        "\n",
        "Ans.\n",
        "The __call__ method in Python allows an instance of a class to be called as a function. By defining __call__ in a class, we can create objects that behave like functions, enabling flexible and intuitive usage.\n",
        "\n",
        "\n",
        "\n",
        "\n",
        "\n",
        "\n",
        "\n",
        "\n",
        "\n",
        "\n"
      ],
      "metadata": {
        "id": "_rSQwdNNvp6i"
      }
    },
    {
      "cell_type": "markdown",
      "source": [
        "**Practical Questions**"
      ],
      "metadata": {
        "id": "31N-arnHhYmR"
      }
    },
    {
      "cell_type": "code",
      "source": [
        "# 1. Create a parent class Animal with a method speak() that prints a generic message. Create a child class Dog\n",
        "# that overrides the speak() method to print \"Bark!\".\n",
        "\n",
        "class Animal:\n",
        "  def speak(self):\n",
        "    print(\"This is animal sound\")\n",
        "\n",
        "class Dog(Animal):\n",
        "  def speak(self):\n",
        "    print(\"Bark!\")\n",
        "\n",
        "g_animal=Animal()\n",
        "g_animal.speak()\n",
        "\n",
        "dog=Dog()\n",
        "dog.speak()"
      ],
      "metadata": {
        "colab": {
          "base_uri": "https://localhost:8080/"
        },
        "id": "RBAbESTrhlgO",
        "outputId": "e0390aaa-0ac8-4a58-ea9f-877910162ee6"
      },
      "execution_count": 3,
      "outputs": [
        {
          "output_type": "stream",
          "name": "stdout",
          "text": [
            "This is animal sound\n",
            "Bark!\n"
          ]
        }
      ]
    },
    {
      "cell_type": "code",
      "source": [
        "# 2. Write a program to create an abstract class Shape with a method area(). Derive classes Circle and Rectangle\n",
        "# from it and implement the area() method in both.\n",
        "from abc import ABC, abstractmethod\n",
        "import math\n",
        "\n",
        "class Shape:\n",
        "  @abstractmethod\n",
        "  def area(self):\n",
        "    pass\n",
        "\n",
        "class Circle(Shape):\n",
        "  def __init__(self,radius):\n",
        "    self.radius=radius\n",
        "\n",
        "  def area(self):\n",
        "    return math.pi*self.radius**2\n",
        "\n",
        "class Rectangle(Shape):\n",
        "  def __init__(self,l,b):\n",
        "    self.l=l\n",
        "    self.b=b\n",
        "\n",
        "  def area(self):\n",
        "    return self.l*self.b\n",
        "\n",
        "c=Circle(7)\n",
        "print(c.area())\n",
        "\n",
        "r=Rectangle(4,5)\n",
        "print(r.area())\n",
        "\n"
      ],
      "metadata": {
        "colab": {
          "base_uri": "https://localhost:8080/"
        },
        "id": "VAOJSeyhjKPX",
        "outputId": "f24ea7d3-4e16-4f0d-b07e-5384b3ff38bb"
      },
      "execution_count": 4,
      "outputs": [
        {
          "output_type": "stream",
          "name": "stdout",
          "text": [
            "153.93804002589985\n",
            "20\n"
          ]
        }
      ]
    },
    {
      "cell_type": "code",
      "source": [
        "# 3. Implement a multi-level inheritance scenario where a class Vehicle has an attribute type. Derive a class Car\n",
        "# and further derive a class ElectricCar that adds a battery attribute.\n",
        "\n",
        "class Vehicle:\n",
        "  def __init__(self,type):\n",
        "    self.type=type\n",
        "\n",
        "class Car(Vehicle):\n",
        "  def __init__(self,type,model):\n",
        "    super().__init__(type)\n",
        "    self.model=model\n",
        "\n",
        "class ElectricCar(Car):\n",
        "  def __init__(self, type, model,battery):\n",
        "    super().__init__(type, model)\n",
        "    self.battery=battery\n",
        "\n",
        "my_electric_car= ElectricCar(\"Electric\", \"TATA EV\", \"90 mph\")\n",
        "print(my_electric_car.type)\n",
        "print(my_electric_car.model)\n",
        "print(my_electric_car.battery)\n",
        "\n"
      ],
      "metadata": {
        "colab": {
          "base_uri": "https://localhost:8080/"
        },
        "id": "qeVsL691lC1B",
        "outputId": "25eb91b5-e464-4f5f-cac0-6ba812e9d222"
      },
      "execution_count": 5,
      "outputs": [
        {
          "output_type": "stream",
          "name": "stdout",
          "text": [
            "Electric\n",
            "TATA EV\n",
            "90 mph\n"
          ]
        }
      ]
    },
    {
      "cell_type": "code",
      "source": [
        "# 4. Implement a multi-level inheritance scenario where a class Vehicle has an attribute type. Derive a class Car\n",
        "# and further derive a class ElectricCar that adds a battery attribute.\n",
        "\n",
        "class Vehicle:\n",
        "  def __init__(self,type):\n",
        "    self.type=type\n",
        "\n",
        "class Car(Vehicle):\n",
        "  def __init__(self,type,model):\n",
        "    super().__init__(type)\n",
        "    self.model=model\n",
        "\n",
        "class ElectricCar(Car):\n",
        "  def __init__(self, type, model,battery):\n",
        "    super().__init__(type, model)\n",
        "    self.battery=battery\n",
        "\n",
        "my_electric_car= ElectricCar(\"Electric\", \"TATA EV\", \"90 mph\")\n",
        "print(my_electric_car.type)\n",
        "print(my_electric_car.model)\n",
        "print(my_electric_car.battery)\n",
        "\n"
      ],
      "metadata": {
        "colab": {
          "base_uri": "https://localhost:8080/"
        },
        "id": "EqqdtKu_nKIg",
        "outputId": "ca5162d5-8a2c-48a5-df7b-852de0d3fff4"
      },
      "execution_count": 6,
      "outputs": [
        {
          "output_type": "stream",
          "name": "stdout",
          "text": [
            "Electric\n",
            "TATA EV\n",
            "90 mph\n"
          ]
        }
      ]
    },
    {
      "cell_type": "code",
      "source": [
        "# 5. Write a program to demonstrate encapsulation by creating a class BankAccount with private attributes\n",
        "# balance and methods to deposit, withdraw, and check balance.\n",
        "\n",
        "class BankAccount:\n",
        "  def __init__(self,initial_balance):\n",
        "    self.__balance=initial_balance\n",
        "\n",
        "  def deposit(self,amount):\n",
        "    self.__balance+=amount\n",
        "    print(\"Deposited:\",amount)\n",
        "\n",
        "  def withdraw(self,amount):\n",
        "    if self.__balance>=amount:\n",
        "      self.__balance-=amount\n",
        "      print(\"Withdrawn:\",amount)\n",
        "    else:\n",
        "      print(\"Insufficient balance\")\n",
        "\n",
        "  def check_balance(self):\n",
        "    print(\"Balance:\",self.__balance)\n",
        "\n",
        "account=BankAccount(1000)\n",
        "account.deposit(455)\n",
        "account.withdraw(207)\n",
        "account.check_balance()"
      ],
      "metadata": {
        "colab": {
          "base_uri": "https://localhost:8080/"
        },
        "id": "PGXg2yNoncQP",
        "outputId": "af257bb6-3393-4acc-c191-f968c3afe562"
      },
      "execution_count": 9,
      "outputs": [
        {
          "output_type": "stream",
          "name": "stdout",
          "text": [
            "Deposited: 455\n",
            "Withdrawn: 207\n",
            "Balance: 1248\n"
          ]
        }
      ]
    },
    {
      "cell_type": "code",
      "source": [
        "# 6. Demonstrate runtime polymorphism using a method play() in a base class Instrument. Derive classes Guitar\n",
        "# and Piano that implement their own version of play().\n",
        "\n",
        "class Instrument:\n",
        "  def play(self):\n",
        "    print(\"This is an instrument\")\n",
        "\n",
        "class Guitar(Instrument):\n",
        "  def play(self):\n",
        "    print(\"Guitar is playing\")\n",
        "\n",
        "class Piano(Instrument):\n",
        "  def play(self):\n",
        "    print(\"Piano is playing\")\n",
        "\n",
        "i=Instrument()\n",
        "print(i.play())\n",
        "\n",
        "g=Guitar()\n",
        "print(g.play())\n",
        "\n",
        "p=Piano()\n",
        "print(p.play())"
      ],
      "metadata": {
        "colab": {
          "base_uri": "https://localhost:8080/"
        },
        "id": "GM6uJM8Ko7zv",
        "outputId": "9c4a3e26-acfa-4093-dfae-d070131a36eb"
      },
      "execution_count": 11,
      "outputs": [
        {
          "output_type": "stream",
          "name": "stdout",
          "text": [
            "This is an instrument\n",
            "None\n",
            "Guitar is playing\n",
            "None\n",
            "Piano is playing\n",
            "None\n"
          ]
        }
      ]
    },
    {
      "cell_type": "code",
      "source": [
        "# 7. Create a class MathOperations with a class method add_numbers() to add two numbers and a static\n",
        "# method subtract_numbers() to subtract two numbers.\n",
        "\n",
        "class MathOperations:\n",
        "  @classmethod\n",
        "  def add_numbers(cls,a,b):\n",
        "    return a+b\n",
        "\n",
        "  @staticmethod\n",
        "  def subtract_numbers(a,b):\n",
        "    return a-b\n",
        "\n",
        "print(MathOperations.add_numbers(4,5))\n",
        "print(MathOperations.subtract_numbers(4,5))"
      ],
      "metadata": {
        "colab": {
          "base_uri": "https://localhost:8080/"
        },
        "id": "oo6QdWjXqAKi",
        "outputId": "4750fbc3-c2ab-40c4-e3a3-ef97622fe171"
      },
      "execution_count": 12,
      "outputs": [
        {
          "output_type": "stream",
          "name": "stdout",
          "text": [
            "9\n",
            "-1\n"
          ]
        }
      ]
    },
    {
      "cell_type": "code",
      "source": [
        "  # 8. Implement a class Person with a class method to count the total number of persons created.\n",
        "class Person:\n",
        "    count=0\n",
        "    def __init__(self,name):\n",
        "      self.name=name\n",
        "      Person.count+=1\n",
        "\n",
        "    @classmethod\n",
        "    def total_persons(cls):\n",
        "      return cls.count\n",
        "\n",
        "p1=Person(\"Amit\")\n",
        "p2=Person(\"Ankit\")\n",
        "p3=Person(\"Raj\")\n",
        "print(Person.total_persons())\n",
        ""
      ],
      "metadata": {
        "colab": {
          "base_uri": "https://localhost:8080/"
        },
        "id": "39chRGv4qbzI",
        "outputId": "1888d98c-78fa-415e-91a6-7eaf91fc2904"
      },
      "execution_count": 16,
      "outputs": [
        {
          "output_type": "stream",
          "name": "stdout",
          "text": [
            "3\n"
          ]
        }
      ]
    },
    {
      "cell_type": "code",
      "source": [
        "# 9. Write a class Fraction with attributes numerator and denominator. Override the str method to display the\n",
        "# fraction as \"numerator/denominator\n",
        "class Fraction:\n",
        "  def __init__(self,numerator,denominator):\n",
        "    self.numerator=numerator\n",
        "    self.denominator=denominator\n",
        "\n",
        "  def __str__(self):\n",
        "    return f\"{self.numerator}/{self.denominator}\"\n",
        "\n",
        "fraction=Fraction(4,5)\n",
        "print(fraction)\n"
      ],
      "metadata": {
        "colab": {
          "base_uri": "https://localhost:8080/"
        },
        "id": "NLysqIK4rHnt",
        "outputId": "7ff8114e-8cbf-47e8-8e93-135d12100e03"
      },
      "execution_count": 17,
      "outputs": [
        {
          "output_type": "stream",
          "name": "stdout",
          "text": [
            "4/5\n"
          ]
        }
      ]
    },
    {
      "cell_type": "code",
      "source": [
        "# 10. Demonstrate operator overloading by creating a class Vector and overriding the add method to add two\n",
        "# vectors.\n",
        "\n",
        "class Vector:\n",
        "  def __init__(self,x,y):\n",
        "    self.x=x\n",
        "    self.y=y\n",
        "\n",
        "  def __add__(self,other):\n",
        "    return Vector(self.x+other.x,self.y+other.y)\n",
        "\n",
        "  def __str__(self):\n",
        "    return f\"{self.x},{self.y}\"\n",
        "\n",
        "\n",
        "\n",
        "vector1=Vector(4,5)\n",
        "vector2=Vector(6,7)\n",
        "vector=vector1+vector2\n",
        "print(vector)"
      ],
      "metadata": {
        "colab": {
          "base_uri": "https://localhost:8080/"
        },
        "id": "qY5VWzzRsA7w",
        "outputId": "9f0555bc-3765-40ad-898f-4898a13e7203"
      },
      "execution_count": 21,
      "outputs": [
        {
          "output_type": "stream",
          "name": "stdout",
          "text": [
            "10,12\n"
          ]
        }
      ]
    },
    {
      "cell_type": "code",
      "source": [
        "# 11. Create a class Person with attributes name and age. Add a method greet() that prints \"Hello, my name is\n",
        "# {name} and I am {age} years old.\"\n",
        "\n",
        "class Person:\n",
        "  def __init__(self,name,age):\n",
        "    self.name=name\n",
        "    self.age=age\n",
        "\n",
        "  def greet(self):\n",
        "    print(f\"Hello, my name is {self.name} and I am {self.age} years old\")\n",
        "\n",
        "person=Person(\"Sambit Sahoo\",23)\n",
        "person.greet()"
      ],
      "metadata": {
        "colab": {
          "base_uri": "https://localhost:8080/"
        },
        "id": "h9gqdFS5suq7",
        "outputId": "a6a603ee-4260-43f6-aabf-6420e4eafe11"
      },
      "execution_count": 22,
      "outputs": [
        {
          "output_type": "stream",
          "name": "stdout",
          "text": [
            "Hello, my name is Sambit Sahoo and I am 23 years old\n"
          ]
        }
      ]
    },
    {
      "cell_type": "code",
      "source": [
        "# 12. 12. Implement a class Student with attributes name and grades. Create a method average_grade() to compute\n",
        "# the average of the grades.\n",
        "\n",
        "class Student:\n",
        "  def __init__(self,name,grades):\n",
        "    self.name=name\n",
        "    self.grades=grades\n",
        "\n",
        "  def average_grade(self):\n",
        "    return sum(self.grades)/len(self.grades)\n",
        "\n",
        "  def __str__(self):\n",
        "    return f\"Name: {self.name}\\nGrades: {self.grades}\\nAverage Grade: {self.average_grade()}\"\n",
        "\n",
        "student=Student(\"Sambit Sahoo\",[80,85,90])\n",
        "print(student)\n",
        "\n",
        ""
      ],
      "metadata": {
        "colab": {
          "base_uri": "https://localhost:8080/"
        },
        "id": "xXEZFSDftf-d",
        "outputId": "1719e783-20e3-4a47-9952-a77fbd405ed7"
      },
      "execution_count": 23,
      "outputs": [
        {
          "output_type": "stream",
          "name": "stdout",
          "text": [
            "Name: Sambit Sahoo\n",
            "Grades: [80, 85, 90]\n",
            "Average Grade: 85.0\n"
          ]
        }
      ]
    },
    {
      "cell_type": "code",
      "source": [
        "# 13. Create a class Rectangle with methods set_dimensions() to set the dimensions and area() to calculate the\n",
        "# area.\n",
        "\n",
        "class Rectangle:\n",
        "  def __init__(self,length,width):\n",
        "    self.length=length\n",
        "    self.width=width\n",
        "\n",
        "  def set_dimensions(self,length,width):\n",
        "    self.length=length\n",
        "    self.width = width\n",
        "\n",
        "  def area(self):\n",
        "    return self.length*self.width\n",
        "\n",
        "rectangle=Rectangle(4,5)\n",
        "print(rectangle.area())\n",
        "rectangle.set_dimensions(6,7)\n",
        "print(rectangle.area())\n",
        ""
      ],
      "metadata": {
        "colab": {
          "base_uri": "https://localhost:8080/"
        },
        "id": "p61JWAx8t9Dg",
        "outputId": "bdcfe4b4-8b2e-4fcd-cbc4-5057576e0b82"
      },
      "execution_count": 24,
      "outputs": [
        {
          "output_type": "stream",
          "name": "stdout",
          "text": [
            "20\n",
            "42\n"
          ]
        }
      ]
    },
    {
      "cell_type": "code",
      "source": [
        "# 14. Create a class Employee with a method calculate_salary() that computes the salary based on hours worked\n",
        "# and hourly rate. Create a derived class Manager that adds a bonus to the salary.\n",
        "\n",
        "class Employee:\n",
        "  def __init__(self,name,hours_worked,hourly_rate):\n",
        "    self.name=name\n",
        "    self.hours_worked=hours_worked\n",
        "    self.hourly_rate=hourly_rate\n",
        "\n",
        "  def calculate_salary(self):\n",
        "    return self.hours_worked*self.hourly_rate\n",
        "\n",
        "class Manager(Employee):\n",
        "  def __init__(self,name,hours_worked,hourly_rate,bonus):\n",
        "    super().__init__(name,hours_worked,hourly_rate)\n",
        "    self.bonus=bonus\n",
        "\n",
        "  def calculate_salary(self):\n",
        "        base_salary = super().calculate_salary()\n",
        "        return base_salary + self.bonus\n",
        "\n",
        "employee=Employee(\"Lait\",40,24)\n",
        "print(employee.calculate_salary())\n",
        "\n",
        "manager=Manager(\"Lalu\",40,24,10000)\n",
        "print(manager.calculate_salary())\n",
        "\n"
      ],
      "metadata": {
        "colab": {
          "base_uri": "https://localhost:8080/"
        },
        "id": "elUAbb4punY_",
        "outputId": "e52e93a7-abdf-4592-a0a7-933b11d20a2e"
      },
      "execution_count": 29,
      "outputs": [
        {
          "output_type": "stream",
          "name": "stdout",
          "text": [
            "960\n",
            "10960\n"
          ]
        }
      ]
    },
    {
      "cell_type": "code",
      "source": [
        "# 15. Create a class Product with attributes name, price, and quantity. Implement a method total_price() that\n",
        "# calculates the total price of the product.\n",
        "\n",
        "class Product:\n",
        "  def __init__(self,name,price,quantity):\n",
        "    self.name=name\n",
        "    self.price=price\n",
        "    self.quantity=quantity\n",
        "\n",
        "  def total_price(self):\n",
        "    return self.price*self.quantity\n",
        "\n",
        "product=Product(\"Jacket\",49990,2)\n",
        "print(product.total_price())\n",
        ""
      ],
      "metadata": {
        "colab": {
          "base_uri": "https://localhost:8080/"
        },
        "id": "aWxh5CkXvfYk",
        "outputId": "f9f082b9-5185-46a9-ee08-7fbe2f842172"
      },
      "execution_count": 30,
      "outputs": [
        {
          "output_type": "stream",
          "name": "stdout",
          "text": [
            "99980\n"
          ]
        }
      ]
    },
    {
      "cell_type": "code",
      "source": [
        "# 16. Create a class Animal with an abstract method sound(). Create two derived classes Cow and Sheep that\n",
        "# implement the sound() method\n",
        "\n",
        "class Animal:\n",
        "  def sound(self):\n",
        "    pass\n",
        "\n",
        "class Cow(Animal):\n",
        "  def sound(self):\n",
        "    print(\"Moo\")\n",
        "\n",
        "class Sheep(Animal):\n",
        "  def sound(self):\n",
        "    print(\"Baa\")\n",
        "\n",
        "cow=Cow()\n",
        "cow.sound()\n",
        "\n",
        "sheep=Sheep()\n",
        "sheep.sound()\n"
      ],
      "metadata": {
        "colab": {
          "base_uri": "https://localhost:8080/"
        },
        "id": "AZp5T-kNwHLj",
        "outputId": "4ddbb363-9109-494b-9529-c1e97baf560c"
      },
      "execution_count": 31,
      "outputs": [
        {
          "output_type": "stream",
          "name": "stdout",
          "text": [
            "Moo\n",
            "Baa\n"
          ]
        }
      ]
    },
    {
      "cell_type": "code",
      "source": [
        "# 17. Create a class Book with attributes title, author, and year_published. Add a method get_book_info() that\n",
        "# returns a formatted string with the book's details.\n",
        "\n",
        "class Book:\n",
        "  def __init__(self,title,author,year_published):\n",
        "    self.title=title\n",
        "    self.author=author\n",
        "    self.year_published=year_published\n",
        "\n",
        "  def get_book_info(self):\n",
        "    return f\"Title: {self.title}\\nAuthor: {self.author}\\nYear Published: {self.year_published}\"\n",
        "\n",
        "book=Book(\"Mrs. Bhalla Lover \",\"Mangesh Mishan\",2023)\n",
        "print(book.get_book_info())"
      ],
      "metadata": {
        "colab": {
          "base_uri": "https://localhost:8080/"
        },
        "id": "WIry8b6kwe8C",
        "outputId": "4884297e-95fc-4c82-dbe9-a1a78ab17b11"
      },
      "execution_count": 32,
      "outputs": [
        {
          "output_type": "stream",
          "name": "stdout",
          "text": [
            "Title: Mrs. Bhalla Lover \n",
            "Author: Mangesh Mishan\n",
            "Year Published: 2023\n"
          ]
        }
      ]
    },
    {
      "cell_type": "code",
      "source": [
        "# 18. Create a class House with attributes address and price. Create a derived class Mansion that adds an\n",
        "# attribute number_of_rooms.\n",
        "class House:\n",
        "  def __init__(self,address,price):\n",
        "    self.address=address\n",
        "    self.price=price\n",
        "\n",
        "class Mansion(House):\n",
        "  def __init__(self,address,price,number_of_rooms):\n",
        "    super().__init__(address,price)\n",
        "    self.number_of_rooms=number_of_rooms\n",
        "\n",
        "house=House(\"Kolkata\",1000000)\n",
        "mansion=Mansion(\"Shimla\",20000000,10)\n",
        "print(house.address)\n",
        "print(mansion.number_of_rooms)"
      ],
      "metadata": {
        "colab": {
          "base_uri": "https://localhost:8080/"
        },
        "id": "tmrWzyjLxGYH",
        "outputId": "8d447ef3-f2fc-4565-c9d0-c68e99568edc"
      },
      "execution_count": 35,
      "outputs": [
        {
          "output_type": "stream",
          "name": "stdout",
          "text": [
            "Kolkata\n",
            "10\n"
          ]
        }
      ]
    },
    {
      "cell_type": "code",
      "source": [],
      "metadata": {
        "id": "4x5j5njTx0UT"
      },
      "execution_count": null,
      "outputs": []
    }
  ]
}