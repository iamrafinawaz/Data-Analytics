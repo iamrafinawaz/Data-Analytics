{
  "nbformat": 4,
  "nbformat_minor": 0,
  "metadata": {
    "colab": {
      "provenance": [],
      "authorship_tag": "ABX9TyPtkQxoUp4EuSfZ8s7f9uYJ",
      "include_colab_link": true
    },
    "kernelspec": {
      "name": "python3",
      "display_name": "Python 3"
    },
    "language_info": {
      "name": "python"
    }
  },
  "cells": [
    {
      "cell_type": "markdown",
      "metadata": {
        "id": "view-in-github",
        "colab_type": "text"
      },
      "source": [
        "<a href=\"https://colab.research.google.com/github/iamrafinawaz/Data-Analytics/blob/main/Function.ipynb\" target=\"_parent\"><img src=\"https://colab.research.google.com/assets/colab-badge.svg\" alt=\"Open In Colab\"/></a>"
      ]
    },
    {
      "cell_type": "markdown",
      "source": [
        "Theory Questions:\n",
        "\n",
        "\n",
        "1. What is the difference between a function and a method in Python?\n",
        "\n",
        "Ans.\n",
        "\n",
        "A function is a standalone block of code performing a specific task and can be called independently. A method is a function associated with an object, defined within a class, and operates on instances of that class.\n",
        "\n",
        "Function Example:\n",
        "\n",
        "def add(a, b):\n",
        "    return a + b\n",
        "\n",
        "print(add(2, 3))\n",
        "\n",
        "Method Example:\n",
        "\n",
        "class Calculator:\n",
        "    def add(self, a, b):\n",
        "        return a + b\n",
        "\n",
        "calc = Calculator()\n",
        "print(calc.add(2, 3))  \n",
        "\n",
        "\n",
        "2. Explain the concept of function arguments and parameters in Python.\n",
        "\n",
        "Ans.\n",
        "\n",
        "Parameters are variables listed in the function definition while arguments are values passed to the function when it is called.\n",
        "\n",
        "Example:\n",
        "\n",
        "def greet(name):  # 'name' is a parameter\n",
        "    return f\"Hello, {name}!\"\n",
        "\n",
        "print(greet(\"Virendar\"))  # \"Virendar\" is an argument\n",
        "\n",
        "\n",
        "3. What are the different ways to define and call a function in Python?\n",
        "\n",
        "Regular Function Definition and Call:\n",
        "def greet(name):\n",
        "    return f\"Hello, {name}!\"\n",
        "\n",
        "print(greet(\"Yusuf\"))  \n",
        "\n",
        "Default Parameter Values:\n",
        "\n",
        "def greet(name=\"World\"):\n",
        "    return f\"Hello, {name}!\"\n",
        "\n",
        "print(greet())  \n",
        "print(greet(\"Aamir\"))\n",
        "\n",
        "Keyword Arguments:\n",
        "\n",
        "def greet(name, msg):\n",
        "    return f\"{msg}, {name}!\"\n",
        "\n",
        "print(greet(name=\"Alice\", msg=\"Hi\"))  # Output: Hi, Alice!\n",
        "\n",
        "\n",
        "Arbitrary Arguments:\n",
        "\n",
        "def greet(*names):\n",
        "    for name in names:\n",
        "        print(f\"Hello, {name}!\")\n",
        "\n",
        "greet(\"Alice\", \"Bob\")  # Output: Hello, Alice! Hello, Bob!\n",
        "\n",
        "\n",
        "4. What is the purpose of the `return` statement in a Python function?\n",
        "\n",
        "Ans.\n",
        "\n",
        "The return statement in a Python function serves to exit the function and send a value back to the caller. It allows us to return a result from the function that can be used later in the code.\n",
        "\n",
        "def add(a, b):\n",
        "    return a + b\n",
        "\n",
        "result = add(3, 4)  \n",
        "print(result)  \n",
        "\n",
        "5. What are iterators in Python and how do they differ from iterables?\n",
        "\n",
        "Ans.\n",
        "\n",
        "Iterator is an object representing a stream of data return the data one by one using next() while An iterable is any python sequential data structure that is capable of returningits members one at a time permitting it to be iterated over in a loop.\n",
        "\n",
        "List is an example of an iterable\n",
        "my_list = [1, 2, 3]\n",
        "\n",
        "Getting an iterator from the iterable\n",
        "\n",
        "iterator = iter(my_list)\n",
        "\n",
        "Using the iterator to traverse the list\n",
        "print(next(iterator))  Output: 1\n",
        "print(next(iterator))  Output: 2\n",
        "print(next(iterator))  Output: 3\n",
        "\n",
        "6. Explain the concept of generators in Python and how they are defined.\n",
        "\n",
        "Ans.\n",
        "Generators are special iterators that generate values on the fly using the yield keyword. They are defined like regular functions but use yield to return values one at a time, pausing and resuming state.\n",
        "\n",
        "def count_up_to(max):\n",
        "    count = 1\n",
        "    while count <= max:\n",
        "        yield count\n",
        "        count += 1\n",
        "\n",
        "counter = count_up_to(5)\n",
        "for num in counter:\n",
        "    print(num)\n",
        "7. What are the advantages of using generators over regular functions?\n",
        "\n",
        "Ans.\n",
        "Generators are great because they use less memory, creating one item at a time. They calculate values only when needed, perfect for large lists. Generators keep code simple and easy to read. They also remember their state between yields, making them perfect for tasks that need to keep track of progress.\n",
        "\n",
        "8. What is a lambda function in Python and when is it typically used?\n",
        "\n",
        "Ans.\n",
        "\n",
        "Lambda function in Python is an anonymous, small function defined with the `lambda` keyword, capable of having multiple arguments but only one expression. It is often used for short-term operations, such as in higher-order functions like `map()`, `filter()`, and `sorted()`, where quick and concise functionality is needed.\n",
        "\n",
        "\n",
        "add = lambda x, y: x + y\n",
        "print(add(2, 3))  \n",
        "\n",
        "9. Explain the purpose and usage of the `map()` function in Python.\n",
        "\n",
        "Ans.\n",
        "The map() function in Python applies a given function to all items in an iterable and returns a map object.\n",
        "\n",
        " Doubling numbers in a list\n",
        "nums = [1, 2, 3, 4]\n",
        "doubled = map(lambda x: x * 2, nums)\n",
        "print(list(doubled))  \n",
        "\n",
        "\n",
        "10. What is the difference between `map()`, `reduce()`, and `filter()` functions in Python?\n",
        "\n",
        "Ans.\n",
        "The map() function applies a function to all items in an iterable, returning a map object. filter() selects items based on a function, returning a filter object. reduce() (from functools) applies a function cumulatively to items, reducing them to a single value.\n",
        "\n",
        "\n",
        "map\n",
        "print(list(map(lambda x: x * 2, [1, 2, 3])))  # Output: [2, 4, 6]\n",
        "\n",
        "filter\n",
        "print(list(filter(lambda x: x % 2 == 0, [1, 2, 3, 4])))  # Output: [2, 4]\n",
        "\n",
        "reduce\n",
        "print(reduce(lambda x, y: x + y, [1, 2, 3, 4]))  # Output: 10\n",
        "\n"
      ],
      "metadata": {
        "id": "4B6MBqRtXvdx"
      }
    },
    {
      "cell_type": "code",
      "source": [
        "''' 1. Write a Python function that takes a list of numbers as input and returns the sum of all even numbers in\n",
        "the list. '''\n",
        "\n",
        "from functools import reduce\n",
        "\n",
        "def sum_even(nums):\n",
        "  even_nums=filter(lambda x:x%2==0,nums)\n",
        "  return reduce(lambda x,y:x+y,even_nums)\n",
        "\n",
        "numbers=[1,2,3,4,5,6,7,8,9,10]\n",
        "print(sum_even(numbers))\n"
      ],
      "metadata": {
        "colab": {
          "base_uri": "https://localhost:8080/"
        },
        "id": "ODZnV-yWZrl8",
        "outputId": "a52a8e8f-644d-4f1c-8c01-61d52f4d094a"
      },
      "execution_count": 1,
      "outputs": [
        {
          "output_type": "stream",
          "name": "stdout",
          "text": [
            "30\n"
          ]
        }
      ]
    },
    {
      "cell_type": "code",
      "source": [
        "# 2. Create a Python function that accepts a string and returns the reverse of that string.\n",
        "\n",
        "def reverse_str(string):\n",
        "  return string[::-1]\n",
        "\n",
        "str=\"High School\"\n",
        "print(reverse_str(str))"
      ],
      "metadata": {
        "colab": {
          "base_uri": "https://localhost:8080/"
        },
        "id": "9-FuAyzn7WyD",
        "outputId": "2499f5d2-d86d-4986-cfd3-ecb1476f9e26"
      },
      "execution_count": 2,
      "outputs": [
        {
          "output_type": "stream",
          "name": "stdout",
          "text": [
            "loohcS hgiH\n"
          ]
        }
      ]
    },
    {
      "cell_type": "code",
      "source": [
        "# 3. Implement a Python function that takes a list of integers and returns a new list containing the squares of\n",
        "# each number.\n",
        "\n",
        "def sqaure(n):\n",
        "  return list(map(lambda x:x**2,n))\n",
        "\n",
        "\n",
        "nums=[1,2,3,4,5]\n",
        "print(sqaure(nums))\n"
      ],
      "metadata": {
        "colab": {
          "base_uri": "https://localhost:8080/"
        },
        "id": "V7q-K9aY79_6",
        "outputId": "0ba58696-4167-48e1-be7c-08473778ae4f"
      },
      "execution_count": 3,
      "outputs": [
        {
          "output_type": "stream",
          "name": "stdout",
          "text": [
            "[1, 4, 9, 16, 25]\n"
          ]
        }
      ]
    },
    {
      "cell_type": "code",
      "source": [
        "# 4. Write a Python function that checks if a given number is prime or not from 1 to 200.\n",
        "\n",
        "\n",
        "def is_prime(n):\n",
        "  if n<2:\n",
        "    return False\n",
        "  for i in range(2,int(n**0.5)+1):\n",
        "    if n%i==0:\n",
        "      return False\n",
        "  return True\n",
        "\n",
        "for i in range(1,201):\n",
        "  if is_prime(i):\n",
        "    print(i)"
      ],
      "metadata": {
        "colab": {
          "base_uri": "https://localhost:8080/"
        },
        "id": "FwL5ETEQ8a-r",
        "outputId": "a3091a2b-6678-4cea-cae7-261317ddaa7e"
      },
      "execution_count": 6,
      "outputs": [
        {
          "output_type": "stream",
          "name": "stdout",
          "text": [
            "2\n",
            "3\n",
            "5\n",
            "7\n",
            "11\n",
            "13\n",
            "17\n",
            "19\n",
            "23\n",
            "29\n",
            "31\n",
            "37\n",
            "41\n",
            "43\n",
            "47\n",
            "53\n",
            "59\n",
            "61\n",
            "67\n",
            "71\n",
            "73\n",
            "79\n",
            "83\n",
            "89\n",
            "97\n",
            "101\n",
            "103\n",
            "107\n",
            "109\n",
            "113\n",
            "127\n",
            "131\n",
            "137\n",
            "139\n",
            "149\n",
            "151\n",
            "157\n",
            "163\n",
            "167\n",
            "173\n",
            "179\n",
            "181\n",
            "191\n",
            "193\n",
            "197\n",
            "199\n"
          ]
        }
      ]
    },
    {
      "cell_type": "code",
      "source": [
        "# 5. Create an iterator class in Python that generates the Fibonacci sequence up to a specified number of\n",
        "# terms.\n",
        "\n",
        "def fib(n):\n",
        "  a,b=0,1\n",
        "  for i in range(n):\n",
        "    yield a\n",
        "    a,b=b,a+b\n",
        "\n",
        "f=fib(10)\n",
        "for i in f:\n",
        "  print(i)\n",
        "\n"
      ],
      "metadata": {
        "colab": {
          "base_uri": "https://localhost:8080/"
        },
        "id": "LWRAIRFM90Tu",
        "outputId": "ed645f13-226f-4427-feff-e517b05455c6"
      },
      "execution_count": 8,
      "outputs": [
        {
          "output_type": "stream",
          "name": "stdout",
          "text": [
            "0\n",
            "1\n",
            "1\n",
            "2\n",
            "3\n",
            "5\n",
            "8\n",
            "13\n",
            "21\n",
            "34\n"
          ]
        }
      ]
    },
    {
      "cell_type": "code",
      "source": [
        "# 6. Write a generator function in Python that yields the powers of 2 up to a given exponent.\n",
        "\n",
        "def power_of_2(n):\n",
        "  for i in range(n):\n",
        "    yield 2**i\n",
        "\n",
        "p=power_of_2(10)\n",
        "for i in p:\n",
        "  print(i)"
      ],
      "metadata": {
        "colab": {
          "base_uri": "https://localhost:8080/"
        },
        "id": "4uOFy0Ps_h6O",
        "outputId": "4bb61a00-f196-484a-daac-7163f734ec82"
      },
      "execution_count": 11,
      "outputs": [
        {
          "output_type": "stream",
          "name": "stdout",
          "text": [
            "1\n",
            "2\n",
            "4\n",
            "8\n",
            "16\n",
            "32\n",
            "64\n",
            "128\n",
            "256\n",
            "512\n"
          ]
        }
      ]
    },
    {
      "cell_type": "code",
      "source": [
        "# 7. Implement a generator function that reads a file line by line and yields each line as a string.\n",
        "\n",
        "def read_file(filename):\n",
        "  with open(filename,'r') as f:\n",
        "    for line in f:\n",
        "      yield line\n",
        "\n",
        "f=read_file('file.txt')\n",
        "for line in f:\n",
        "  print(line)\n"
      ],
      "metadata": {
        "colab": {
          "base_uri": "https://localhost:8080/",
          "height": 315
        },
        "id": "WxdR8am5AWrn",
        "outputId": "31519516-e99e-481e-e1e1-9fc6c47d73cd"
      },
      "execution_count": 12,
      "outputs": [
        {
          "output_type": "error",
          "ename": "FileNotFoundError",
          "evalue": "[Errno 2] No such file or directory: 'file.txt'",
          "traceback": [
            "\u001b[0;31m---------------------------------------------------------------------------\u001b[0m",
            "\u001b[0;31mFileNotFoundError\u001b[0m                         Traceback (most recent call last)",
            "\u001b[0;32m<ipython-input-12-8f0ac0594138>\u001b[0m in \u001b[0;36m<cell line: 9>\u001b[0;34m()\u001b[0m\n\u001b[1;32m      7\u001b[0m \u001b[0;34m\u001b[0m\u001b[0m\n\u001b[1;32m      8\u001b[0m \u001b[0mf\u001b[0m\u001b[0;34m=\u001b[0m\u001b[0mread_file\u001b[0m\u001b[0;34m(\u001b[0m\u001b[0;34m'file.txt'\u001b[0m\u001b[0;34m)\u001b[0m\u001b[0;34m\u001b[0m\u001b[0;34m\u001b[0m\u001b[0m\n\u001b[0;32m----> 9\u001b[0;31m \u001b[0;32mfor\u001b[0m \u001b[0mline\u001b[0m \u001b[0;32min\u001b[0m \u001b[0mf\u001b[0m\u001b[0;34m:\u001b[0m\u001b[0;34m\u001b[0m\u001b[0;34m\u001b[0m\u001b[0m\n\u001b[0m\u001b[1;32m     10\u001b[0m   \u001b[0mprint\u001b[0m\u001b[0;34m(\u001b[0m\u001b[0mline\u001b[0m\u001b[0;34m)\u001b[0m\u001b[0;34m\u001b[0m\u001b[0;34m\u001b[0m\u001b[0m\n",
            "\u001b[0;32m<ipython-input-12-8f0ac0594138>\u001b[0m in \u001b[0;36mread_file\u001b[0;34m(filename)\u001b[0m\n\u001b[1;32m      2\u001b[0m \u001b[0;34m\u001b[0m\u001b[0m\n\u001b[1;32m      3\u001b[0m \u001b[0;32mdef\u001b[0m \u001b[0mread_file\u001b[0m\u001b[0;34m(\u001b[0m\u001b[0mfilename\u001b[0m\u001b[0;34m)\u001b[0m\u001b[0;34m:\u001b[0m\u001b[0;34m\u001b[0m\u001b[0;34m\u001b[0m\u001b[0m\n\u001b[0;32m----> 4\u001b[0;31m   \u001b[0;32mwith\u001b[0m \u001b[0mopen\u001b[0m\u001b[0;34m(\u001b[0m\u001b[0mfilename\u001b[0m\u001b[0;34m,\u001b[0m\u001b[0;34m'r'\u001b[0m\u001b[0;34m)\u001b[0m \u001b[0;32mas\u001b[0m \u001b[0mf\u001b[0m\u001b[0;34m:\u001b[0m\u001b[0;34m\u001b[0m\u001b[0;34m\u001b[0m\u001b[0m\n\u001b[0m\u001b[1;32m      5\u001b[0m     \u001b[0;32mfor\u001b[0m \u001b[0mline\u001b[0m \u001b[0;32min\u001b[0m \u001b[0mf\u001b[0m\u001b[0;34m:\u001b[0m\u001b[0;34m\u001b[0m\u001b[0;34m\u001b[0m\u001b[0m\n\u001b[1;32m      6\u001b[0m       \u001b[0;32myield\u001b[0m \u001b[0mline\u001b[0m\u001b[0;34m\u001b[0m\u001b[0;34m\u001b[0m\u001b[0m\n",
            "\u001b[0;31mFileNotFoundError\u001b[0m: [Errno 2] No such file or directory: 'file.txt'"
          ]
        }
      ]
    },
    {
      "cell_type": "code",
      "source": [
        "# 8. Use a lambda function in Python to sort a list of tuples based on the second element of each tuple.\n",
        "\n",
        "tuple=[(1,3),(4,1),(5,2),(2,4)]\n",
        "sorted_tuple=sorted(tuple,key=lambda x:x[1])\n",
        "print(sorted_tuple)"
      ],
      "metadata": {
        "colab": {
          "base_uri": "https://localhost:8080/"
        },
        "id": "qAq0hf9bBt46",
        "outputId": "bf17271b-4fb7-413e-8e9a-87963a94edac"
      },
      "execution_count": 15,
      "outputs": [
        {
          "output_type": "stream",
          "name": "stdout",
          "text": [
            "[(4, 1), (5, 2), (1, 3), (2, 4)]\n"
          ]
        }
      ]
    },
    {
      "cell_type": "code",
      "source": [
        "# 9. Write a Python program that uses `map()` to convert a list of temperatures from Celsius to Fahrenheit.\n",
        "\n",
        "celcius=[0,10,20,37,40,50]\n",
        "fahrenheit=list(map(lambda x:(x*9/5)+32,celcius))\n",
        "print(fahrenheit)"
      ],
      "metadata": {
        "colab": {
          "base_uri": "https://localhost:8080/"
        },
        "id": "pZQ_Qzc4CQOY",
        "outputId": "62701bc9-71a8-433e-d046-48f2e9b6aa41"
      },
      "execution_count": 17,
      "outputs": [
        {
          "output_type": "stream",
          "name": "stdout",
          "text": [
            "[32.0, 50.0, 68.0, 98.6, 104.0, 122.0]\n"
          ]
        }
      ]
    },
    {
      "cell_type": "code",
      "source": [
        "# 10. Create a Python program that uses `filter()` to remove all the vowels from a given string.\n",
        "\n",
        "str=\"apple\"\n",
        "vowels = 'aeiouAEIOU'\n",
        "filter_str=''.join(filter(lambda x:x not in vowels,str))\n",
        "print(filter_str)"
      ],
      "metadata": {
        "colab": {
          "base_uri": "https://localhost:8080/"
        },
        "id": "IECcHIGrC2w3",
        "outputId": "d08850bb-5c36-41d6-b3d1-8311397e34e4"
      },
      "execution_count": 20,
      "outputs": [
        {
          "output_type": "stream",
          "name": "stdout",
          "text": [
            "ppl\n"
          ]
        }
      ]
    },
    {
      "cell_type": "code",
      "source": [],
      "metadata": {
        "id": "XFtki2HcDsuh"
      },
      "execution_count": null,
      "outputs": []
    }
  ]
}