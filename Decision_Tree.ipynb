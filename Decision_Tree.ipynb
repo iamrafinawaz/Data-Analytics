{
  "nbformat": 4,
  "nbformat_minor": 0,
  "metadata": {
    "colab": {
      "provenance": [],
      "authorship_tag": "ABX9TyOV1OXP859I3ANm6id0TyUM",
      "include_colab_link": true
    },
    "kernelspec": {
      "name": "python3",
      "display_name": "Python 3"
    },
    "language_info": {
      "name": "python"
    }
  },
  "cells": [
    {
      "cell_type": "markdown",
      "metadata": {
        "id": "view-in-github",
        "colab_type": "text"
      },
      "source": [
        "<a href=\"https://colab.research.google.com/github/iamrafinawaz/Data-Analytics/blob/main/Decision_Tree.ipynb\" target=\"_parent\"><img src=\"https://colab.research.google.com/assets/colab-badge.svg\" alt=\"Open In Colab\"/></a>"
      ]
    },
    {
      "cell_type": "markdown",
      "source": [
        "1. A Decision Tree is a flowchart-like structure used for decision-making and classification. It splits data into branches based on feature values, leading to a decision or classification at the leaves.\n",
        "\n",
        "2. Impurity measures evaluate the homogeneity of the nodes. Common measures include Gini Impurity and Entropy, which help determine the best splits.\n",
        "\n",
        "3. G\n",
        "i\n",
        "n\n",
        "i\n",
        "=\n",
        "1\n",
        "−\n",
        "∑\n",
        "i\n",
        "=\n",
        "1\n",
        "n\n",
        "p\n",
        "i\n",
        "2\n",
        "Gini=1−∑\n",
        "i=1\n",
        "n\n",
        "​\n",
        " p\n",
        "i\n",
        "2\n",
        "​\n",
        "  where\n",
        "p\n",
        "i\n",
        "p\n",
        "i\n",
        "​\n",
        "  is the probability of class\n",
        "i\n",
        "i.\n",
        "\n",
        "4. E\n",
        "n\n",
        "t\n",
        "r\n",
        "o\n",
        "p\n",
        "y\n",
        "=\n",
        "−\n",
        "∑\n",
        "i\n",
        "=\n",
        "1\n",
        "n\n",
        "p\n",
        "i\n",
        "log\n",
        "⁡\n",
        "2\n",
        "(\n",
        "p\n",
        "i\n",
        ")\n",
        "Entropy=−∑\n",
        "i=1\n",
        "n\n",
        "​\n",
        " p\n",
        "i\n",
        "​\n",
        " log\n",
        "2\n",
        "​\n",
        " (p\n",
        "i\n",
        "​\n",
        " ) where\n",
        "p\n",
        "i\n",
        "p\n",
        "i\n",
        "​\n",
        "  is the probability of class\n",
        "i\n",
        "i.\n",
        "\n",
        "5. Information Gain measures the reduction in entropy after a dataset is split. It helps in selecting the feature that best separates the data.\n",
        "\n",
        "6. Both measure node impurity, but Gini Impurity is simpler and faster to compute, while Entropy is more informative but computationally intensive.\n",
        "\n",
        "7. Decision Trees use recursive binary splitting based on impurity measures to partition data, aiming to maximize Information Gain at each split.\n",
        "\n",
        "8. Pre-Pruning stops the tree growth early based on criteria like maximum depth or minimum samples per leaf to prevent overfitting.\n",
        "\n",
        "9. Post-Pruning removes branches from a fully grown tree that do not provide significant power, reducing overfitting and improving generalization.\n",
        "\n",
        "10. Pre-Pruning halts tree growth early, while Post-Pruning trims an already fully grown tree. Both aim to prevent overfitting but at different stages.\n",
        "\n",
        "11. A Decision Tree Regressor predicts continuous values by splitting data into regions with similar target values, using mean squared error as a criterion.\n",
        "\n",
        "12. Advantages: Easy to interpret, handle both numerical and categorical data. Disadvantages: Prone to overfitting, sensitive to data variations.\n",
        "\n",
        "13. Decision Trees can handle missing values by assigning them to the most frequent class or by using surrogate splits.\n",
        "\n",
        "14. Decision Trees handle categorical features by creating splits based on the categories, treating each category as a distinct value.\n",
        "\n",
        "15. Applications include medical diagnosis, credit scoring, customer segmentation, and fraud detection."
      ],
      "metadata": {
        "id": "0W-CepNvLf5r"
      }
    },
    {
      "cell_type": "code",
      "source": [
        "# 16\n",
        "from sklearn.datasets import load_iris\n",
        "from sklearn.tree import DecisionTreeClassifier\n",
        "from sklearn.model_selection import train_test_split\n",
        "from sklearn.metrics import accuracy_score\n",
        "\n",
        "iris = load_iris()\n",
        "X, y = iris.data, iris.target\n",
        "\n",
        "X_train, X_test, y_train, y_test = train_test_split(X, y, test_size=0.3, random_state=42)\n",
        "\n",
        "clf = DecisionTreeClassifier()\n",
        "clf.fit(X_train, y_train)\n",
        "\n",
        "y_pred = clf.predict(X_test)\n",
        "print(\"Model Accuracy:\", accuracy_score(y_test, y_pred))\n"
      ],
      "metadata": {
        "colab": {
          "base_uri": "https://localhost:8080/"
        },
        "id": "sUlHUJAGMIDD",
        "outputId": "9706a44c-11aa-4a16-ad07-daf5427dddc8"
      },
      "execution_count": 3,
      "outputs": [
        {
          "output_type": "stream",
          "name": "stdout",
          "text": [
            "Model Accuracy: 1.0\n"
          ]
        }
      ]
    },
    {
      "cell_type": "code",
      "source": [
        "#17\n",
        "from sklearn.datasets import load_iris\n",
        "from sklearn.tree import DecisionTreeClassifier\n",
        "\n",
        "iris = load_iris()\n",
        "X, y = iris.data, iris.target\n",
        "\n",
        "clf = DecisionTreeClassifier(criterion='gini')\n",
        "clf.fit(X, y)\n",
        "\n",
        "print(\"Feature Importances:\", clf.feature_importances_)"
      ],
      "metadata": {
        "colab": {
          "base_uri": "https://localhost:8080/"
        },
        "id": "zxjfyHztM2TJ",
        "outputId": "1d75eb83-7941-4b5d-b38b-1ed9b6646710"
      },
      "execution_count": 4,
      "outputs": [
        {
          "output_type": "stream",
          "name": "stdout",
          "text": [
            "Feature Importances: [0.02666667 0.         0.55072262 0.42261071]\n"
          ]
        }
      ]
    },
    {
      "cell_type": "code",
      "source": [
        "# 18\n",
        "from sklearn.datasets import load_iris\n",
        "from sklearn.tree import DecisionTreeClassifier\n",
        "from sklearn.model_selection import train_test_split\n",
        "from sklearn.metrics import accuracy_score\n",
        "\n",
        "iris = load_iris()\n",
        "X, y = iris.data, iris.target\n",
        "\n",
        "X_train, X_test, y_train, y_test = train_test_split(X, y, test_size=0.3, random_state=42)\n",
        "\n",
        "clf = DecisionTreeClassifier(criterion='entropy')\n",
        "clf.fit(X_train, y_train)\n",
        "\n",
        "y_pred = clf.predict(X_test)\n",
        "print(\"Model Accuracy:\", accuracy_score(y_test, y_pred))"
      ],
      "metadata": {
        "colab": {
          "base_uri": "https://localhost:8080/"
        },
        "id": "Uu-1qrgaN2S7",
        "outputId": "b95e9c65-bacf-4745-85c5-ff9316f30e35"
      },
      "execution_count": 5,
      "outputs": [
        {
          "output_type": "stream",
          "name": "stdout",
          "text": [
            "Model Accuracy: 0.9777777777777777\n"
          ]
        }
      ]
    },
    {
      "cell_type": "code",
      "source": [
        "# 19\n",
        "from sklearn.datasets import fetch_california_housing\n",
        "from sklearn.tree import DecisionTreeRegressor\n",
        "from sklearn.model_selection import train_test_split\n",
        "from sklearn.metrics import mean_squared_error\n",
        "\n",
        "housing = fetch_california_housing()\n",
        "X, y = housing.data, housing.target\n",
        "\n",
        "X_train, X_test, y_train, y_test = train_test_split(X, y, test_size=0.3, random_state=42)\n",
        "\n",
        "reg = DecisionTreeRegressor()\n",
        "reg.fit(X_train, y_train)\n",
        "\n",
        "y_pred = reg.predict(X_test)\n",
        "print(\"Mean Squared Error:\", mean_squared_error(y_test, y_pred))"
      ],
      "metadata": {
        "colab": {
          "base_uri": "https://localhost:8080/"
        },
        "id": "u83gKd6QOGkU",
        "outputId": "e632dc60-cead-4f86-ed29-64121e19ba6e"
      },
      "execution_count": 6,
      "outputs": [
        {
          "output_type": "stream",
          "name": "stdout",
          "text": [
            "Mean Squared Error: 0.5316071335022285\n"
          ]
        }
      ]
    },
    {
      "cell_type": "code",
      "source": [
        "# 20\n",
        "from sklearn.datasets import load_iris\n",
        "from sklearn.tree import DecisionTreeClassifier\n",
        "from sklearn import tree\n",
        "import graphviz\n",
        "\n",
        "iris = load_iris()\n",
        "X, y = iris.data, iris.target\n",
        "\n",
        "clf = DecisionTreeClassifier()\n",
        "clf.fit(X, y)\n",
        "\n",
        "dot_data = tree.export_graphviz(clf, out_file=None, feature_names=iris.feature_names, class_names=iris.target_names, filled=True)\n",
        "graph = graphviz.Source(dot_data)\n",
        "graph.render(\"iris_tree\")"
      ],
      "metadata": {
        "colab": {
          "base_uri": "https://localhost:8080/",
          "height": 35
        },
        "id": "SPJPRLC0OSux",
        "outputId": "d0d20d81-a4cb-4b42-8dbc-643f8665a633"
      },
      "execution_count": 8,
      "outputs": [
        {
          "output_type": "execute_result",
          "data": {
            "text/plain": [
              "'iris_tree.pdf'"
            ],
            "application/vnd.google.colaboratory.intrinsic+json": {
              "type": "string"
            }
          },
          "metadata": {},
          "execution_count": 8
        }
      ]
    },
    {
      "cell_type": "code",
      "source": [
        "# 21\n",
        "from sklearn.datasets import load_iris\n",
        "from sklearn.tree import DecisionTreeClassifier\n",
        "from sklearn.model_selection import train_test_split\n",
        "from sklearn.metrics import accuracy_score\n",
        "\n",
        "iris = load_iris()\n",
        "X, y = iris.data, iris.target\n",
        "\n",
        "X_train, X_test, y_train, y_test = train_test_split(X, y, test_size=0.3, random_state=42)\n",
        "\n",
        "clf_depth_3 = DecisionTreeClassifier(max_depth=3)\n",
        "clf_depth_3.fit(X_train, y_train)\n",
        "y_pred_depth_3 = clf_depth_3.predict(X_test)\n",
        "accuracy_depth_3 = accuracy_score(y_test, y_pred_depth_3)\n",
        "\n",
        "clf_full = DecisionTreeClassifier()\n",
        "clf_full.fit(X_train, y_train)\n",
        "y_pred_full = clf_full.predict(X_test)\n",
        "accuracy_full = accuracy_score(y_test, y_pred_full)\n",
        "\n",
        "print(\"Accuracy with max depth 3:\", accuracy_depth_3)\n",
        "print(\"Accuracy with fully grown tree:\", accuracy_full)"
      ],
      "metadata": {
        "colab": {
          "base_uri": "https://localhost:8080/"
        },
        "id": "hRJ5c_dSObVg",
        "outputId": "2a27cbb2-6e2f-4255-bd4d-dad9d5cd11ce"
      },
      "execution_count": 9,
      "outputs": [
        {
          "output_type": "stream",
          "name": "stdout",
          "text": [
            "Accuracy with max depth 3: 1.0\n",
            "Accuracy with fully grown tree: 1.0\n"
          ]
        }
      ]
    },
    {
      "cell_type": "code",
      "source": [
        "# 22\n",
        "from sklearn.datasets import load_iris\n",
        "from sklearn.tree import DecisionTreeClassifier\n",
        "from sklearn.model_selection import train_test_split\n",
        "from sklearn.metrics import accuracy_score\n",
        "\n",
        "iris = load_iris()\n",
        "X, y = iris.data, iris.target\n",
        "\n",
        "X_train, X_test, y_train, y_test = train_test_split(X, y, test_size=0.3, random_state=42)\n",
        "\n",
        "clf_min_samples_split = DecisionTreeClassifier(min_samples_split=5)\n",
        "clf_min_samples_split.fit(X_train, y_train)\n",
        "y_pred_min_samples_split = clf_min_samples_split.predict(X_test)\n",
        "accuracy_min_samples_split = accuracy_score(y_test, y_pred_min_samples_split)\n",
        "\n",
        "clf_default = DecisionTreeClassifier()\n",
        "clf_default.fit(X_train, y_train)\n",
        "y_pred_default = clf_default.predict(X_test)\n",
        "accuracy_default = accuracy_score(y_test, y_pred_default)\n",
        "\n",
        "print(\"Accuracy with min_samples_split=5:\", accuracy_min_samples_split)\n",
        "print(\"Accuracy with default tree:\", accuracy_default)"
      ],
      "metadata": {
        "colab": {
          "base_uri": "https://localhost:8080/"
        },
        "id": "FEQXRMW5Oirb",
        "outputId": "35388a31-b14d-4e05-9328-52162918d9f8"
      },
      "execution_count": 11,
      "outputs": [
        {
          "output_type": "stream",
          "name": "stdout",
          "text": [
            "Accuracy with min_samples_split=5: 1.0\n",
            "Accuracy with default tree: 1.0\n"
          ]
        }
      ]
    },
    {
      "cell_type": "code",
      "source": [
        "# 23\n",
        "from sklearn.datasets import load_iris\n",
        "from sklearn.tree import DecisionTreeClassifier\n",
        "from sklearn.model_selection import train_test_split\n",
        "from sklearn.metrics import accuracy_score\n",
        "from sklearn.preprocessing import StandardScaler\n",
        "\n",
        "iris = load_iris()\n",
        "X, y = iris.data, iris.target\n",
        "\n",
        "X_train, X_test, y_train, y_test = train_test_split(X, y, test_size=0.3, random_state=42)\n",
        "\n",
        "scaler = StandardScaler()\n",
        "X_train_scaled = scaler.fit_transform(X_train)\n",
        "X_test_scaled = scaler.transform(X_test)\n",
        "\n",
        "clf_scaled = DecisionTreeClassifier()\n",
        "clf_scaled.fit(X_train_scaled, y_train)\n",
        "y_pred_scaled = clf_scaled.predict(X_test_scaled)\n",
        "accuracy_scaled = accuracy_score(y_test, y_pred_scaled)\n",
        "\n",
        "clf_unscaled = DecisionTreeClassifier()\n",
        "clf_unscaled.fit(X_train, y_train)\n",
        "y_pred_unscaled = clf_unscaled.predict(X_test)\n",
        "accuracy_unscaled = accuracy_score(y_test, y_pred_unscaled)\n",
        "\n",
        "print(\"Accuracy with scaled data:\", accuracy_scaled)\n",
        "print(\"Accuracy with unscaled data:\", accuracy_unscaled)\n"
      ],
      "metadata": {
        "colab": {
          "base_uri": "https://localhost:8080/"
        },
        "id": "uLiMPintOqjU",
        "outputId": "f69d7433-ffed-45db-8c99-2c2892a9bf5e"
      },
      "execution_count": 12,
      "outputs": [
        {
          "output_type": "stream",
          "name": "stdout",
          "text": [
            "Accuracy with scaled data: 1.0\n",
            "Accuracy with unscaled data: 1.0\n"
          ]
        }
      ]
    },
    {
      "cell_type": "code",
      "source": [
        "# 24\n",
        "from sklearn.datasets import load_iris\n",
        "from sklearn.tree import DecisionTreeClassifier\n",
        "from sklearn.multiclass import OneVsRestClassifier\n",
        "from sklearn.model_selection import train_test_split\n",
        "from sklearn.metrics import accuracy_score\n",
        "\n",
        "iris = load_iris()\n",
        "X, y = iris.data, iris.target\n",
        "\n",
        "X_train, X_test, y_train, y_test = train_test_split(X, y, test_size=0.3, random_state=42)\n",
        "\n",
        "ovr_clf = OneVsRestClassifier(DecisionTreeClassifier())\n",
        "ovr_clf.fit(X_train, y_train)\n",
        "\n",
        "y_pred = ovr_clf.predict(X_test)\n",
        "print(\"Model Accuracy:\", accuracy_score(y_test, y_pred))"
      ],
      "metadata": {
        "colab": {
          "base_uri": "https://localhost:8080/"
        },
        "id": "gHlxUDU5O102",
        "outputId": "af6c918d-0240-4e9a-b540-e779daf72cb5"
      },
      "execution_count": 13,
      "outputs": [
        {
          "output_type": "stream",
          "name": "stdout",
          "text": [
            "Model Accuracy: 1.0\n"
          ]
        }
      ]
    },
    {
      "cell_type": "code",
      "source": [
        "# 25\n",
        "from sklearn.datasets import load_iris\n",
        "from sklearn.tree import DecisionTreeClassifier\n",
        "\n",
        "iris = load_iris()\n",
        "X, y = iris.data, iris.target\n",
        "\n",
        "clf = DecisionTreeClassifier()\n",
        "clf.fit(X, y)\n",
        "\n",
        "print(\"Feature Importance Scores:\", clf.feature_importances_)"
      ],
      "metadata": {
        "colab": {
          "base_uri": "https://localhost:8080/"
        },
        "id": "lPPo9CYlO7YS",
        "outputId": "6023f90f-3ef9-4db8-9eaa-3d44498d3ba7"
      },
      "execution_count": 14,
      "outputs": [
        {
          "output_type": "stream",
          "name": "stdout",
          "text": [
            "Feature Importance Scores: [0.01333333 0.01333333 0.05072262 0.92261071]\n"
          ]
        }
      ]
    },
    {
      "cell_type": "code",
      "source": [
        "# 26\n",
        "from sklearn.datasets import fetch_california_housing\n",
        "from sklearn.tree import DecisionTreeRegressor\n",
        "from sklearn.model_selection import train_test_split\n",
        "from sklearn.metrics import mean_squared_error\n",
        "\n",
        "housing = fetch_california_housing()\n",
        "X, y = housing.data, housing.target\n",
        "\n",
        "X_train, X_test, y_train, y_test = train_test_split(X, y, test_size=0.3, random_state=42)\n",
        "\n",
        "reg_depth_5 = DecisionTreeRegressor(max_depth=5)\n",
        "reg_depth_5.fit(X_train, y_train)\n",
        "y_pred_depth_5 = reg_depth_5.predict(X_test)\n",
        "mse_depth_5 = mean_squared_error(y_test, y_pred_depth_5)\n",
        "\n",
        "reg_full = DecisionTreeRegressor()\n",
        "reg_full.fit(X_train, y_train)\n",
        "y_pred_full = reg_full.predict(X_test)\n",
        "mse_full = mean_squared_error(y_test, y_pred_full)\n",
        "\n",
        "print(\"MSE with max depth 5:\", mse_depth_5)\n",
        "print(\"MSE with unrestricted tree:\", mse_full)"
      ],
      "metadata": {
        "colab": {
          "base_uri": "https://localhost:8080/"
        },
        "id": "v7eiIYeNPFdL",
        "outputId": "dddab091-6cee-4bd4-a94b-47eba11b46b6"
      },
      "execution_count": 15,
      "outputs": [
        {
          "output_type": "stream",
          "name": "stdout",
          "text": [
            "MSE with max depth 5: 0.5210801561811794\n",
            "MSE with unrestricted tree: 0.5310771329338178\n"
          ]
        }
      ]
    },
    {
      "cell_type": "code",
      "source": [
        "# 27\n",
        "from sklearn.datasets import load_iris\n",
        "from sklearn.tree import DecisionTreeClassifier\n",
        "from sklearn.model_selection import train_test_split\n",
        "from sklearn.metrics import accuracy_score\n",
        "import matplotlib.pyplot as plt\n",
        "\n",
        "iris = load_iris()\n",
        "X, y = iris.data, iris.target\n",
        "\n",
        "X_train, X_test, y_train, y_test = train_test_split(X, y, test_size=0.3, random_state=42)\n",
        "\n",
        "clf = DecisionTreeClassifier(random_state=42)\n",
        "path = clf.cost_complexity_pruning_path(X_train, y_train)\n",
        "ccp_alphas = path.ccp_alphas\n",
        "\n",
        "train_scores = []\n",
        "test_scores = []\n",
        "\n",
        "for ccp_alpha in ccp_alphas:\n",
        "    clf = DecisionTreeClassifier(random_state=42, ccp_alpha=ccp_alpha)\n",
        "    clf.fit(X_train, y_train)\n",
        "    train_scores.append(accuracy_score(y_train, clf.predict(X_train)))\n",
        "    test_scores.append(accuracy_score(y_test, clf.predict(X_test)))\n",
        "\n",
        "plt.figure()\n",
        "plt.plot(ccp_alphas, train_scores, marker='o', label='train', drawstyle=\"steps-post\")\n",
        "plt.plot(ccp_alphas, test_scores, marker='o', label='test', drawstyle=\"steps-post\")\n",
        "plt.xlabel(\"alpha\")\n",
        "plt.ylabel(\"accuracy\")\n",
        "plt.legend()\n",
        "plt.title(\"Accuracy vs alpha for training and testing sets\")\n",
        "plt.show()"
      ],
      "metadata": {
        "colab": {
          "base_uri": "https://localhost:8080/",
          "height": 472
        },
        "id": "4Z_ZaKq8PL2p",
        "outputId": "e5e79948-5496-4d7c-b3da-e366b2c1ff2b"
      },
      "execution_count": 18,
      "outputs": [
        {
          "output_type": "display_data",
          "data": {
            "text/plain": [
              "<Figure size 640x480 with 1 Axes>"
            ],
            "image/png": "[encoded data removed]"
          },
          "metadata": {}
        }
      ]
    },
    {
      "cell_type": "code",
      "source": [
        "# 28\n",
        "from sklearn.datasets import load_iris\n",
        "from sklearn.tree import DecisionTreeClassifier\n",
        "from sklearn.model_selection import train_test_split\n",
        "from sklearn.metrics import precision_score, recall_score, f1_score\n",
        "\n",
        "iris = load_iris()\n",
        "X, y = iris.data, iris.target\n",
        "\n",
        "X_train, X_test, y_train, y_test = train_test_split(X, y, test_size=0.3, random_state=42)\n",
        "\n",
        "clf = DecisionTreeClassifier()\n",
        "clf.fit(X_train, y_train)\n",
        "\n",
        "y_pred = clf.predict(X_test)\n",
        "precision = precision_score(y_test, y_pred, average='macro')\n",
        "recall = recall_score(y_test, y_pred, average='macro')\n",
        "f1 = f1_score(y_test, y_pred, average='macro')\n",
        "\n",
        "print(\"Precision:\", precision)\n",
        "print(\"Recall:\", recall)\n",
        "print(\"F1-Score:\", f1)"
      ],
      "metadata": {
        "colab": {
          "base_uri": "https://localhost:8080/"
        },
        "id": "BYlrfIL0PReg",
        "outputId": "30597e01-8399-48ab-dba5-64a581012ba9"
      },
      "execution_count": 19,
      "outputs": [
        {
          "output_type": "stream",
          "name": "stdout",
          "text": [
            "Precision: 1.0\n",
            "Recall: 1.0\n",
            "F1-Score: 1.0\n"
          ]
        }
      ]
    },
    {
      "cell_type": "code",
      "source": [
        "# 29\n",
        "from sklearn.datasets import load_iris\n",
        "from sklearn.tree import DecisionTreeClassifier\n",
        "from sklearn.model_selection import train_test_split\n",
        "from sklearn.metrics import confusion_matrix\n",
        "import seaborn as sns\n",
        "import matplotlib.pyplot as plt\n",
        "\n",
        "iris = load_iris()\n",
        "X, y = iris.data, iris.target\n",
        "\n",
        "X_train, X_test, y_train, y_test = train_test_split(X, y, test_size=0.3, random_state=42)\n",
        "\n",
        "clf = DecisionTreeClassifier()\n",
        "clf.fit(X_train, y_train)\n",
        "\n",
        "y_pred = clf.predict(X_test)\n",
        "cm = confusion_matrix(y_test, y_pred)\n",
        "\n",
        "sns.heatmap(cm, annot=True, fmt='d', cmap='Blues', xticklabels=iris.target_names, yticklabels=iris.target_names)\n",
        "plt.xlabel('Predicted')\n",
        "plt.ylabel('True')\n",
        "plt.title('Confusion Matrix')\n",
        "plt.show()"
      ],
      "metadata": {
        "colab": {
          "base_uri": "https://localhost:8080/",
          "height": 472
        },
        "id": "WzWTi79AP7ft",
        "outputId": "58d70c6c-4361-49c6-9b9c-c5d5a2de2623"
      },
      "execution_count": 20,
      "outputs": [
        {
          "output_type": "display_data",
          "data": {
            "text/plain": [
              "<Figure size 640x480 with 2 Axes>"
            ],
            "image/png": "[encoded data removed]"
          },
          "metadata": {}
        }
      ]
    },
    {
      "cell_type": "code",
      "source": [
        "# 30\n",
        "from sklearn.datasets import load_iris\n",
        "from sklearn.tree import DecisionTreeClassifier\n",
        "from sklearn.model_selection import train_test_split, GridSearchCV\n",
        "\n",
        "iris = load_iris()\n",
        "X, y = iris.data, iris.target\n",
        "\n",
        "X_train, X_test, y_train, y_test = train_test_split(X, y, test_size=0.3, random_state=42)\n",
        "\n",
        "param_grid = {\n",
        "    'max_depth': [3, 5, 7, None],\n",
        "    'min_samples_split': [2, 5, 10]\n",
        "}\n",
        "\n",
        "clf = DecisionTreeClassifier()\n",
        "grid_search = GridSearchCV(clf, param_grid, cv=5)\n",
        "grid_search.fit(X_train, y_train)\n",
        "\n",
        "print(\"Best parameters found:\", grid_search.best_params_)\n",
        "print(\"Best cross-validation score:\", grid_search.best_score_)"
      ],
      "metadata": {
        "colab": {
          "base_uri": "https://localhost:8080/"
        },
        "id": "_p47YqhZQA6D",
        "outputId": "17fc95a4-7ec9-49e9-d72c-aca836829a05"
      },
      "execution_count": 22,
      "outputs": [
        {
          "output_type": "stream",
          "name": "stdout",
          "text": [
            "Best parameters found: {'max_depth': 5, 'min_samples_split': 10}\n",
            "Best cross-validation score: 0.9428571428571428\n"
          ]
        }
      ]
    },
    {
      "cell_type": "code",
      "source": [],
      "metadata": {
        "id": "jGWb3b5LQC2G"
      },
      "execution_count": null,
      "outputs": []
    }
  ]
}