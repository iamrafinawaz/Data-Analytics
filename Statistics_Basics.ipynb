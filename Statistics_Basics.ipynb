{
  "nbformat": 4,
  "nbformat_minor": 0,
  "metadata": {
    "colab": {
      "provenance": [],
      "authorship_tag": "ABX9TyOvJSLUqALDJpKfoEn7TjFj",
      "include_colab_link": true
    },
    "kernelspec": {
      "name": "python3",
      "display_name": "Python 3"
    },
    "language_info": {
      "name": "python"
    }
  },
  "cells": [
    {
      "cell_type": "markdown",
      "metadata": {
        "id": "view-in-github",
        "colab_type": "text"
      },
      "source": [
        "<a href=\"https://colab.research.google.com/github/iamrafinawaz/Data-Analytics/blob/main/Statistics_Basics.ipynb\" target=\"_parent\"><img src=\"https://colab.research.google.com/assets/colab-badge.svg\" alt=\"Open In Colab\"/></a>"
      ]
    },
    {
      "cell_type": "markdown",
      "source": [
        "1. Explain the different types of data (qualitative and quantitative) and provide examples of each. Discuss\n",
        "nominal, ordinal, interval, and ratio scales.\n",
        "\n",
        "Qualitative: Descriptive, categorical data (e.g., colors, gender).\n",
        "Quantitative: Numerical data, measurable quantities (e.g., height, weight).\n",
        "\n",
        "Nominal: Categories with no order (e.g., gender, zip codes).\n",
        "Ordinal: Ordered categories, but differences are not meaningful (e.g., satisfaction levels).\n",
        "Interval: Ordered, equal intervals, no true zero (e.g., temperature).\n",
        "Ratio: Ordered, equal intervals, true zero (e.g., weight, height).\n",
        "\n",
        "\n",
        "\n",
        "\n",
        "2. What are the measures of central tendency, and when should you use each? Discuss the mean, median, and mode with examples and situations where each is appropriate.**\n",
        "\n",
        "Measures of central tendency are statistical metrics that describe the center point or typical value of a dataset. The main measures are mean, median, and mode.\n",
        "\n",
        "- **Mean**: The arithmetic average of a set of values. It is used when the data is symmetrically distributed without outliers. For example, calculating the average test score of a class.\n",
        "- **Median**: The middle value when the data is ordered. It is used when the data is skewed or has outliers. For example, the median salary in a company where a few high incomes skew the average.\n",
        "- **Mode**: The most frequently occurring value in a dataset. It is useful for categorical data or to find the most common item. For example, determining the most common shoe size sold in a store.\n",
        "\n",
        "\n",
        "3. Explain the concept of dispersion. How do variance and standard deviation measure the spread of data?\n",
        "\n",
        "Dispersion refers to the extent to which data points in a statistical distribution or data set diverge from the central value, such as the mean. Variance measures the average squared differences from the mean, providing a sense of how \"spread out\" data points are. Standard deviation, being the square root of variance, gives the dispersion in the same units as the data and is more interpretable.\n",
        "\n",
        "4. What is a box plot, and what can it tell you about the distribution of data?\n",
        "\n",
        "A box plot, or box-and-whisker plot, is a graphical representation of data that shows the distribution’s minimum, first quartile, median, third quartile, and maximum. It can reveal the data’s central value, spread, and skewness, and highlight potential outliers.\n",
        "\n",
        "5. Discuss the role of random sampling in making inferences about populations.\n",
        "\n",
        "Random sampling involves selecting a sample from a larger population in such a way that every individual has an equal chance of being chosen. This method helps to ensure that the sample is representative of the population, allowing for accurate inferences and reduces biases in statistical analyses.\n",
        "\n",
        "\n",
        "\n",
        " 6. Explain the concept of skewness and its types. How does skewness affect the interpretation of data?\n",
        "\n",
        "**Skewness** measures the asymmetry of a dataset. Types: **Positive skew** (tail on the right, mean > median) and **Negative skew** (tail on the left, mean < median). **Impact:** Skewness affects data interpretation by indicating potential outliers or biases.\n",
        "\n",
        " 7. What is the interquartile range (IQR), and how is it used to detect outliers?\n",
        "\n",
        "**IQR** is the range between the first quartile (Q1) and third quartile (Q3), representing the middle 50% of data. **Use:** Detecting outliers; data points outside 1.5 times the IQR from Q1 or Q3 are considered outliers.\n",
        "\n",
        " 8. Discuss the conditions under which the binomial distribution is used.\n",
        "\n",
        "**Conditions:** Fixed number of trials (n), two possible outcomes (success/failure), constant probability of success (p), and independent trials.\n",
        "\n",
        "9. Explain the properties of the normal distribution and the empirical rule (68-95-99.7 rule).\n",
        "\n",
        "**Normal Distribution**: Symmetrical, bell-shaped curve, mean = median = mode. **Empirical rule:** 68% of data falls within 1 SD of the mean, 95% within 2 SD, and 99.7% within 3 SD.\n",
        "\n",
        "10. Provide a real-life example of a Poisson process and calculate the probability for a specific event.\n",
        "\n",
        "**Example:** Number of emails received per hour. **Calculation:** P(X=k) = (λ^k * e^-λ) / k! where λ is the average rate. Example: If λ = 3 emails/hour, P(2 emails) = (3^2 * e^-3) / 2! ≈ 0.224.\n",
        "\n",
        "11. Explain what a random variable is and differentiate between discrete and continuous random variables.\n",
        "\n",
        "**Random Variable:** A variable whose values depend on outcomes of a random phenomenon. **Discrete:** Finite/countable values (e.g., number of students). **Continuous:** Infinite values within a range (e.g., time).\n",
        "\n",
        "12. Provide an example dataset, calculate both covariance and correlation, and interpret the results.\n",
        "\n",
        "**Example dataset:**\n",
        "\n",
        "| X | Y |\n",
        "|---|---|\n",
        "| 1 | 2 |\n",
        "| 2 | 4 |\n",
        "| 3 | 6 |\n",
        "\n",
        "**Covariance:** Measures joint variability. Cov(X,Y) = Σ((X-μX)(Y-μY)) / n-1. **Correlation:** Standardized covariance, ranges [-1,1]. Pearson's correlation = Cov(X,Y) / (σXσY). **Interpretation:** Strong positive correlation (near 1) indicates X and Y move together.\n",
        "\n",
        "\n"
      ],
      "metadata": {
        "id": "giUTStuROLME"
      }
    }
  ]
}