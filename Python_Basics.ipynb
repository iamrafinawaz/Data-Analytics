{
  "nbformat": 4,
  "nbformat_minor": 0,
  "metadata": {
    "colab": {
      "provenance": []
    },
    "kernelspec": {
      "name": "python3",
      "display_name": "Python 3"
    },
    "language_info": {
      "name": "python"
    }
  },
  "cells": [
    {
      "cell_type": "markdown",
      "source": [
        "              Python Basics\n",
        "\n",
        "1.    What is Python, and why is it popular?\n",
        "\n",
        "Ans.  Python is high-level versatile    \n",
        "      language which is easy to understand.It supports multiple programming paradigms, including objecr-oriented,imperative and functional programming.It is widely used in web development,AI and ML, Data Analytics & Data Science etc.\n",
        "\n",
        "      Python is popular language because:\n",
        "      a. It's widely used in different\n",
        "         domain of industry.\n",
        "      b. Majorly used in Data industry\n",
        "      c. Contains a lot if libararies.\n",
        "      d. Also used in automation.\n",
        "\n",
        "\n",
        "2.    What is an interpreter in Python?\n",
        "\n",
        "Ans.  A Python interpreter is a computer program that takes the code we write   \n",
        "      in Python and changes it into instructions that our computer can understand and execute.\n",
        "\n",
        "\n",
        "3.    What are pre-defined keywords in Python?\n",
        "\n",
        "Ans.  In python there are some keywords which are predefine and that words are\n",
        "      reserved(can't use that word as varaible) and holds specific meaning.\n",
        "      Examples :  True, False, else, import, break, etc.\n",
        "\n",
        "4.    Can keywords be used as variable names?\n",
        "\n",
        "Ans.  No keywords can't be used as variable name.\n",
        "\n",
        "\n",
        "5.    What is mutability in Python?\n",
        "\n",
        "Ans.  Objects/container whose state or value can be changed after they are\n",
        "      created are called as mutable objects or container.\n",
        "\n",
        "\n",
        "6.    Why are lists mutable, but tuples\n",
        "      are immutable?\n",
        "\n",
        "Ans.  Lists in Python are mutable,\n",
        "      meaning they can be changed after creation, to allow flexibility. Tuples are immutable, meaninh its states can't be changed, it ensure the integrity and safety of data.\n",
        "\n",
        "\n",
        "7.    What is the difference between  \n",
        "      “==” and “is” operators in Python?\n",
        "\n",
        "Ans.  The == operator checks if two\n",
        "      variables have the same value, while the is operator checks if two variables refer to the same object in memory.\n",
        "\n",
        "8.    What are logical operators in\n",
        "      Python?\n",
        "\n",
        "Ans.  In Python, logical operators are\n",
        "      used to combine multiple conditions together and evaluate them as a single boolean expression.\n",
        "      Example1: AND,OR,NOT etc.\n",
        "\n",
        "9.    What is type casting in Python?\n",
        "\n",
        "Ans.  It is a process of changing datatype of variable to perform the required\n",
        "      operations.\n",
        "\n",
        "\n",
        "\n",
        "10.   What is the difference between implicit and explicit type casting?\n",
        "\n",
        "Ans.  Impilicit type casting is automatically done by compiler while explicit\n",
        "      type casting is done manually by programmer using inbuilt finction like int(),float() etc.\n",
        "\n",
        "11.   What is the purpose of conditional statements in Python?\n",
        "\n",
        "Ans.  Conditional statements in Python, like if, elif, and else, are used to\n",
        "      make decisions in code. They allow the program to execute certain sections of code based on whether specific conditions are met, providing control over the program flow.\n",
        "\n",
        "12.   How does the elif statement work?\n",
        "\n",
        "Ans.  The elif statement checks multiple conditions in an if statement. If one\n",
        "      condition is False, it moves to the next elif until it finds a True condition or reaches else.\n",
        "\n",
        "13.   What is the difference between for and while loops?\n",
        "\n",
        "Ans.  'for loop' is used when the number of iterations is known, whereas\n",
        "      execution is done in a 'while loop' until the statement in the program is proved wrong.\n",
        "\n",
        "14.   Describe a scenario where a while loop is more suitable than a for loop.\n",
        "\n",
        "Ans.  A while loop is more suitable than a for loop when the number of\n",
        "      iterations is not known in advance and depends on a condition being met.\n",
        "\n",
        "\n",
        "\n",
        "\n",
        "\n",
        "\n",
        "\n",
        "\n",
        "\n",
        "\n",
        "\n",
        "\n",
        "\n",
        "     \n",
        "      "
      ],
      "metadata": {
        "id": "MftRV71FJnrk"
      }
    },
    {
      "cell_type": "markdown",
      "source": [
        "Practical Questions\n"
      ],
      "metadata": {
        "id": "7701VuhbyWAE"
      }
    },
    {
      "cell_type": "code",
      "source": [
        "# 1 Write a Python program to print \"Hello, World!\"\n",
        "\n",
        "print(\"Hello, World!\")"
      ],
      "metadata": {
        "colab": {
          "base_uri": "https://localhost:8080/"
        },
        "id": "ZTFhytzkybTV",
        "outputId": "0e51d565-b25d-4d83-8835-a6cb5cc337ab"
      },
      "execution_count": null,
      "outputs": [
        {
          "output_type": "stream",
          "name": "stdout",
          "text": [
            "Hello, World!\n"
          ]
        }
      ]
    },
    {
      "cell_type": "code",
      "source": [
        "# 2 Write a Python program that displays your name and age.\n",
        "name=\"Dilnawaz\"\n",
        "age=24\n",
        "print(f\"My name is {name} and my age is {age} years.\")\n"
      ],
      "metadata": {
        "colab": {
          "base_uri": "https://localhost:8080/"
        },
        "id": "sRzR-QkCyuxP",
        "outputId": "c3f4962a-2604-48f8-b74c-eafcc0ecf3b4"
      },
      "execution_count": null,
      "outputs": [
        {
          "output_type": "stream",
          "name": "stdout",
          "text": [
            "My name is Dilnawaz and my age is 24 years\n"
          ]
        }
      ]
    },
    {
      "cell_type": "code",
      "source": [
        "# 3 Write code to print all the pre-defined keywords in Python using the keyword library.\n",
        "import keyword\n",
        "\n",
        "print(keyword.kwlist)\n",
        "\n"
      ],
      "metadata": {
        "colab": {
          "base_uri": "https://localhost:8080/"
        },
        "id": "Rfoyjl9hy3G3",
        "outputId": "5a28c364-ba5e-4cbc-88b6-78be71ab1bf3"
      },
      "execution_count": null,
      "outputs": [
        {
          "output_type": "stream",
          "name": "stdout",
          "text": [
            "['False', 'None', 'True', 'and', 'as', 'assert', 'async', 'await', 'break', 'class', 'continue', 'def', 'del', 'elif', 'else', 'except', 'finally', 'for', 'from', 'global', 'if', 'import', 'in', 'is', 'lambda', 'nonlocal', 'not', 'or', 'pass', 'raise', 'return', 'try', 'while', 'with', 'yield']\n"
          ]
        }
      ]
    },
    {
      "cell_type": "code",
      "source": [
        "# 4. Write a program that checks if a given word is a Python keyword?\n",
        "import keyword\n",
        "\n",
        "word=input(\"Enter a word: \")\n",
        "for i in keyword.kwlist:\n",
        "  if i==word:\n",
        "    print(f\"{word} is a keyword.\")\n",
        "    break\n",
        "\n",
        "else:\n",
        "    print(f\"{word} is not a keyword.\")\n"
      ],
      "metadata": {
        "colab": {
          "base_uri": "https://localhost:8080/"
        },
        "id": "W6tTTBqX0Sa6",
        "outputId": "718aeb36-483d-48b3-b48a-42c39d09ced6"
      },
      "execution_count": null,
      "outputs": [
        {
          "output_type": "stream",
          "name": "stdout",
          "text": [
            "Enter a word: iam\n",
            "iam is not a keyword.\n"
          ]
        }
      ]
    },
    {
      "cell_type": "code",
      "source": [
        "# 5. Create a list and tuple in Python, and demonstrate how attempting to change an element works differently for each\n",
        "\n",
        "lis=[\"a\",1,1.5,\"Zoom\"]\n",
        "lis[0]=\"Dilnawaz\" # here we can change the element of this list, because list is mutable.\n",
        "print(lis)\n",
        "\n"
      ],
      "metadata": {
        "colab": {
          "base_uri": "https://localhost:8080/"
        },
        "id": "0ZUfJKUg2_Eh",
        "outputId": "a76cfd82-77d8-4837-be3b-2821c200c92b"
      },
      "execution_count": null,
      "outputs": [
        {
          "output_type": "stream",
          "name": "stdout",
          "text": [
            "['Dilnawaz', 1, 1.5, 'Zoom']\n"
          ]
        }
      ]
    },
    {
      "cell_type": "code",
      "source": [
        "tup=(100,\"A\",True,\"#\")\n",
        "tup[2]=False # here we can't change the element of this tuple, because tuple is immutable.\n",
        "print(tup)"
      ],
      "metadata": {
        "colab": {
          "base_uri": "https://localhost:8080/",
          "height": 193
        },
        "id": "zwvMcUA149j6",
        "outputId": "a1e26258-4499-4569-ab65-5a7d76a7220e"
      },
      "execution_count": null,
      "outputs": [
        {
          "output_type": "error",
          "ename": "TypeError",
          "evalue": "'tuple' object does not support item assignment",
          "traceback": [
            "\u001b[0;31m---------------------------------------------------------------------------\u001b[0m",
            "\u001b[0;31mTypeError\u001b[0m                                 Traceback (most recent call last)",
            "\u001b[0;32m<ipython-input-17-d6d5292cd034>\u001b[0m in \u001b[0;36m<cell line: 2>\u001b[0;34m()\u001b[0m\n\u001b[1;32m      1\u001b[0m \u001b[0mtup\u001b[0m\u001b[0;34m=\u001b[0m\u001b[0;34m(\u001b[0m\u001b[0;36m100\u001b[0m\u001b[0;34m,\u001b[0m\u001b[0;34m\"A\"\u001b[0m\u001b[0;34m,\u001b[0m\u001b[0;32mTrue\u001b[0m\u001b[0;34m,\u001b[0m\u001b[0;34m\"#\"\u001b[0m\u001b[0;34m)\u001b[0m\u001b[0;34m\u001b[0m\u001b[0;34m\u001b[0m\u001b[0m\n\u001b[0;32m----> 2\u001b[0;31m \u001b[0mtup\u001b[0m\u001b[0;34m[\u001b[0m\u001b[0;36m2\u001b[0m\u001b[0;34m]\u001b[0m\u001b[0;34m=\u001b[0m\u001b[0;32mFalse\u001b[0m \u001b[0;31m# here we can't change the element of this tuple, because tuple is immutable.\u001b[0m\u001b[0;34m\u001b[0m\u001b[0;34m\u001b[0m\u001b[0m\n\u001b[0m\u001b[1;32m      3\u001b[0m \u001b[0mprint\u001b[0m\u001b[0;34m(\u001b[0m\u001b[0mtup\u001b[0m\u001b[0;34m)\u001b[0m\u001b[0;34m\u001b[0m\u001b[0;34m\u001b[0m\u001b[0m\n",
            "\u001b[0;31mTypeError\u001b[0m: 'tuple' object does not support item assignment"
          ]
        }
      ]
    },
    {
      "cell_type": "code",
      "source": [
        "# 6. Write a function to demonstrate the behavior of mutable and immutable arguments.\n",
        "def demo(x, y):\n",
        "    x = x + 1  # Immutable: Creates a new object for x inside the function\n",
        "    y.append(4)  # Mutable: Modifies the original list y\n",
        "\n",
        "\n",
        "num = 10\n",
        "my_list = [1, 2, 3]\n",
        "\n",
        "print(\"Before:\", num, my_list)\n",
        "\n",
        "demo(num, my_list)\n",
        "\n",
        "print(\"After:\", num, my_list)\n"
      ],
      "metadata": {
        "colab": {
          "base_uri": "https://localhost:8080/"
        },
        "id": "ubNzb3co6TiM",
        "outputId": "147ae091-4252-4769-efab-7b2adaf9ea47"
      },
      "execution_count": null,
      "outputs": [
        {
          "output_type": "stream",
          "name": "stdout",
          "text": [
            "Before: 10 [1, 2, 3]\n",
            "After: 10 [1, 2, 3, 4]\n"
          ]
        }
      ]
    },
    {
      "cell_type": "code",
      "source": [
        "# 7. Write a function to demonstrate the behavior of mutable and immutable arguments.\n",
        "\n",
        "def demo(x, y):\n",
        "    x = x + 1  # Immutable: Creates a new object for x inside the function\n",
        "    y.append(4)  # Mutable: Modifies the original list y\n",
        "\n",
        "\n",
        "num = 10\n",
        "my_list = [1, 2, 3]\n",
        "\n",
        "print(\"Before:\", num, my_list)\n",
        "\n",
        "demo(num, my_list)\n",
        "\n",
        "print(\"After:\", num, my_list)"
      ],
      "metadata": {
        "colab": {
          "base_uri": "https://localhost:8080/"
        },
        "id": "uFXa7U907Vip",
        "outputId": "27267635-55e7-415a-f511-b6bd1cc8e9de"
      },
      "execution_count": null,
      "outputs": [
        {
          "output_type": "stream",
          "name": "stdout",
          "text": [
            "Before: 10 [1, 2, 3]\n",
            "After: 10 [1, 2, 3, 4]\n"
          ]
        }
      ]
    },
    {
      "cell_type": "code",
      "source": [
        "# 8. Write a program to demonstrate the use of logical operators.\n",
        "\n",
        "age = int(input(\"Enter your age: \"))\n",
        "has_license = input(\"Do you have a driver's license? (yes/no): \")\n",
        "\n",
        "# Check if the person is eligible to drive\n",
        "if age >= 18 and has_license.lower() == \"yes\":\n",
        "    print(\"You are eligible to drive.\")\n",
        "elif age < 18:\n",
        "    print(\"You are too young to drive.\")\n",
        "else:\n",
        "    print(\"You need a driver's license to drive.\")\n",
        "\n"
      ],
      "metadata": {
        "colab": {
          "base_uri": "https://localhost:8080/"
        },
        "id": "uP7ANVNI8Vkr",
        "outputId": "55f4fc4b-ec14-459f-80fd-1abb1eb6a5ce"
      },
      "execution_count": null,
      "outputs": [
        {
          "output_type": "stream",
          "name": "stdout",
          "text": [
            "Enter your age: 21\n",
            "Do you have a driver's license? (yes/no): yes\n",
            "You are eligible to drive.\n"
          ]
        }
      ]
    },
    {
      "cell_type": "code",
      "source": [
        "# 9. Write a Python program to convert user input from string to integer, float, and boolean types.\n",
        "var=input()\n",
        "print(type(var))\n",
        "int_var=int(var)\n",
        "print(type(int_var))\n",
        "float_var=float(var)\n",
        "print(type(float_var))\n",
        "bool_var=bool(var)\n",
        "print(type(bool_var))\n"
      ],
      "metadata": {
        "colab": {
          "base_uri": "https://localhost:8080/"
        },
        "id": "4dsUjkoR81HW",
        "outputId": "e02b9532-665f-457e-97c2-804d6e32b8e8"
      },
      "execution_count": null,
      "outputs": [
        {
          "output_type": "stream",
          "name": "stdout",
          "text": [
            "12\n",
            "<class 'str'>\n",
            "<class 'int'>\n",
            "<class 'float'>\n",
            "<class 'bool'>\n"
          ]
        }
      ]
    },
    {
      "cell_type": "code",
      "source": [
        "# 10. Write code to demonstrate type casting with list elementsS\n",
        "\n",
        "\n",
        "my_list = [-10, 7.3, \"rohit\", True,0]\n",
        "\n",
        "int_list = [int(x) for x in my_list if isinstance(x, (int, float))]\n",
        "float_list = [float(x) for x in my_list if isinstance(x,(int,float))]\n",
        "string_list = [str(x) for x in my_list]\n",
        "bool_list = [bool(x) for x in my_list]\n",
        "\n",
        "print(\"Original list:\", my_list)\n",
        "print(\"Integer list:\", int_list)\n",
        "print(\"Float list:\", float_list)\n",
        "print(\"String list:\", string_list)\n",
        "print(\"Boolean list:\", bool_list)"
      ],
      "metadata": {
        "colab": {
          "base_uri": "https://localhost:8080/"
        },
        "id": "X8JoXqi99Wdr",
        "outputId": "e55f6c1d-ee8d-4f82-820c-7bb05ea2b8c1"
      },
      "execution_count": null,
      "outputs": [
        {
          "output_type": "stream",
          "name": "stdout",
          "text": [
            "Original list: [-10, 7.3, 'rohit', True, 0]\n",
            "Integer list: [-10, 7, 1, 0]\n",
            "Float list: [-10.0, 7.3, 1.0, 0.0]\n",
            "String list: ['-10', '7.3', 'rohit', 'True', '0']\n",
            "Boolean list: [True, True, True, True, False]\n"
          ]
        }
      ]
    },
    {
      "cell_type": "code",
      "source": [
        "#  11. Write a program that checks if a number is positive, negative, or zero.\n",
        "num=float(input(\"Enter a number: \"))\n",
        "if num>0:\n",
        "  print(f\"{num} is a positive number.\")\n",
        "elif num<0:\n",
        "  print(f\"{num} is a negative number.\")\n",
        "else:\n",
        "    print(f\"{num} is zero.\")\n"
      ],
      "metadata": {
        "colab": {
          "base_uri": "https://localhost:8080/"
        },
        "id": "G3jbzuqk_Pue",
        "outputId": "3b30b69f-51dc-45bc-8a9d-4e7ba11dfbe1"
      },
      "execution_count": null,
      "outputs": [
        {
          "output_type": "stream",
          "name": "stdout",
          "text": [
            "Enter a number: -3\n",
            "-3.0 is a negative number.\n"
          ]
        }
      ]
    },
    {
      "cell_type": "code",
      "source": [
        "#  12. Write a for loop to print numbers from 1 to 10.\n",
        "for i in range(1,11):\n",
        "  print(i)"
      ],
      "metadata": {
        "colab": {
          "base_uri": "https://localhost:8080/"
        },
        "id": "XOfcyaMKAr7C",
        "outputId": "cfe6d957-d07c-4e51-fa57-0df0993bbe53"
      },
      "execution_count": null,
      "outputs": [
        {
          "output_type": "stream",
          "name": "stdout",
          "text": [
            "1\n",
            "2\n",
            "3\n",
            "4\n",
            "5\n",
            "6\n",
            "7\n",
            "8\n",
            "9\n",
            "10\n"
          ]
        }
      ]
    },
    {
      "cell_type": "code",
      "source": [
        "#  13. Write a Python program to find the sum of all even numbers between 1 and 50.\n",
        "sum=0\n",
        "for i in range(1,51):\n",
        "  if i%2==0:\n",
        "    sum+=i\n",
        "print(sum)\n"
      ],
      "metadata": {
        "colab": {
          "base_uri": "https://localhost:8080/"
        },
        "id": "WR-qJ0inBzRr",
        "outputId": "1116dd3a-c217-4d46-a5db-38030be32923"
      },
      "execution_count": null,
      "outputs": [
        {
          "output_type": "stream",
          "name": "stdout",
          "text": [
            "650\n"
          ]
        }
      ]
    },
    {
      "cell_type": "code",
      "source": [
        "# 14. Write a program to reverse a string using a while loop.\n",
        "str=input(\"Enter a string:\")\n",
        "rev=\"\"\n",
        "i=len(str)-1\n",
        "while i>=0:\n",
        "  rev+=str[i]\n",
        "  i-=1\n",
        "print(rev)\n"
      ],
      "metadata": {
        "colab": {
          "base_uri": "https://localhost:8080/"
        },
        "id": "VTUkiu1HCR6J",
        "outputId": "50e46107-dc2d-44d6-88fd-39f30e15cfae"
      },
      "execution_count": null,
      "outputs": [
        {
          "output_type": "stream",
          "name": "stdout",
          "text": [
            "Enter a string:143.23\n",
            "32.341\n"
          ]
        }
      ]
    },
    {
      "cell_type": "code",
      "source": [
        "# 15. Write a Python program to calculate the factorial of a number provided by the user using a while loop.\n",
        "number=int(input(\"Enter a number:\"))\n",
        "factorial=1\n",
        "i=number\n",
        "while i>=1:\n",
        "  factorial*=i\n",
        "  i-=1\n",
        "print(factorial)\n"
      ],
      "metadata": {
        "colab": {
          "base_uri": "https://localhost:8080/"
        },
        "id": "h1kODijPIBDZ",
        "outputId": "b26d2ab0-39cc-4eba-a7b1-a07a306615c5"
      },
      "execution_count": null,
      "outputs": [
        {
          "output_type": "stream",
          "name": "stdout",
          "text": [
            "Enter a number:6\n",
            "720\n"
          ]
        }
      ]
    },
    {
      "cell_type": "code",
      "source": [],
      "metadata": {
        "id": "B25IIXUNIzR0"
      },
      "execution_count": null,
      "outputs": []
    }
  ]
}