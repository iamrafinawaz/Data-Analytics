{
  "nbformat": 4,
  "nbformat_minor": 0,
  "metadata": {
    "colab": {
      "provenance": [],
      "authorship_tag": "ABX9TyMfFH1zpTN+JsiL2SClescA",
      "include_colab_link": true
    },
    "kernelspec": {
      "name": "python3",
      "display_name": "Python 3"
    },
    "language_info": {
      "name": "python"
    }
  },
  "cells": [
    {
      "cell_type": "markdown",
      "metadata": {
        "id": "view-in-github",
        "colab_type": "text"
      },
      "source": [
        "<a href=\"https://colab.research.google.com/github/iamrafinawaz/Data-Analytics/blob/main/Feature_Engineering.ipynb\" target=\"_parent\"><img src=\"https://colab.research.google.com/assets/colab-badge.svg\" alt=\"Open In Colab\"/></a>"
      ]
    },
    {
      "cell_type": "markdown",
      "source": [
        "\n",
        "### 1. What is a parameter?\n",
        "A parameter is a configuration variable internal to a model that is estimated from the data. It determines how the model's predictions change in response to input data.\n",
        "\n",
        "### 2. What is correlation? What does negative correlation mean?\n",
        "\n",
        "Correlation is a statistical measure that describes the extent to which two variables change together. A positive correlation means that as one variable increases, the other also increases, while a negative correlation indicates that as one variable increases, the other decreases.\n",
        "\n",
        "Negative correlation indicates an inverse relationship between two variables. As one variable increases, the other decreases. The correlation coefficient ranges from -1 to 0, with -1 indicating a perfect negative correlation.\n",
        "\n",
        "### 3. Define Machine Learning. What are the main components in Machine Learning?\n",
        "Machine Learning is a branch of artificial intelligence that focuses on building systems that learn from data. Main components include data, models, algorithms, training, and evaluation.\n",
        "\n",
        "### 4. How does loss value help in determining whether the model is good or not?\n",
        "Loss value quantifies the difference between the predicted and actual values. A lower loss value indicates that the model's predictions are closer to the actual outcomes, implying better model performance.\n",
        "\n",
        "### 5. What are continuous and categorical variables?\n",
        "Continuous variables can take any value within a range, such as height or weight. Categorical variables are discrete and can take only specific values, representing categories, like gender or color.\n",
        "\n",
        "### 6. How do we handle categorical variables in Machine Learning? What are the common techniques?\n",
        "Common techniques for handling categorical variables include one-hot encoding, label encoding, and binary encoding. These methods convert categorical data into numerical formats suitable for machine learning algorithms.\n",
        "\n",
        "### 7. What do you mean by training and testing a dataset?\n",
        "Training a dataset involves using it to teach the model, while testing a dataset assesses the model's performance on new, unseen data to evaluate its generalization ability.\n",
        "\n",
        "### 8. What is sklearn.preprocessing?\n",
        "`sklearn.preprocessing` is a module in the scikit-learn library that provides various functions to preprocess data, including scaling, encoding, and normalization, making it suitable for machine learning models.\n",
        "\n",
        "### 9. What is a Test set?\n",
        "A test set is a subset of the dataset used to evaluate the performance of a trained machine learning model. It helps in assessing the model's ability to generalize to new data.\n",
        "\n",
        "### 10. How do we split data for model fitting (training and testing) in Python? How do you approach a Machine Learning problem?\n",
        "\n",
        "In Python, data can be split using the `train_test_split` function from `sklearn.model_selection`. It splits the data into training and testing sets based on a specified ratio.\n",
        "\n",
        "Approaching a machine learning problem involves defining the problem, collecting data, preprocessing data, selecting and training a model, evaluating its performance, and refining the model based on results.\n",
        "\n",
        "### 11. Why do we have to perform EDA before fitting a model to the data?\n",
        "Exploratory Data Analysis (EDA) helps understand the dataset, identify patterns, detect anomalies, and ensure data quality. It provides insights for feature selection and informs model choice.\n",
        "\n",
        "### 12. What is correlation?\n",
        "Correlation is a statistical measure that describes the extent to which two variables change together. A positive correlation means that as one variable increases, the other also increases, while a negative correlation indicates that as one variable increases, the other decreases.\n",
        "\n",
        "### 13. What does negative correlation mean?\n",
        "Negative correlation indicates an inverse relationship between two variables. As one variable increases, the other decreases. The correlation coefficient ranges from -1 to 0, with -1 indicating a perfect negative correlation.\n",
        "\n",
        "### 14. How can you find correlation between variables in Python?\n",
        "Correlation between variables can be found using the `corr()` function in pandas or the `pearsonr()` function from the `scipy.stats` module.\n",
        "\n",
        "### 15. What is causation? Explain difference between correlation and causation with an example.\n",
        "Causation implies that one event directly affects another. Correlation indicates a relationship between two variables but does not imply causation. For example, ice cream sales and drowning incidents are correlated but not causally linked.\n",
        "\n",
        "### 16. What is an Optimizer? What are different types of optimizers? Explain each with an example.\n",
        "An optimizer adjusts the parameters of a model to minimize the loss function. Types include Gradient Descent, Stochastic Gradient Descent (SGD), and Adam. SGD updates parameters based on a subset of data, while Adam adapts learning rates for each parameter.\n",
        "\n",
        "### 17. What is sklearn.linear_model?\n",
        "`sklearn.linear_model` is a module in scikit-learn that provides linear models like Linear Regression, Logistic Regression, and Ridge Regression for predictive modeling tasks.\n",
        "\n",
        "### 18. What does model.fit() do? What arguments must be given?\n",
        "`model.fit()` trains the machine learning model on the given data. It requires features (X) and target labels (y) as arguments to learn the relationship between them.\n",
        "\n",
        "### 19. What does model.predict() do? What arguments must be given?\n",
        "`model.predict()` makes predictions using the trained model. It requires only the features (X) as arguments to generate predictions based on the learned relationship.\n",
        "\n",
        "### 20. What are continuous and categorical variables?\n",
        "Continuous variables can take any value within a range, such as height or weight. Categorical variables are discrete and can take only specific values, representing categories, like gender or color.\n",
        "\n",
        "### 21. What is feature scaling? How does it help in Machine Learning?\n",
        "Feature scaling standardizes the range of features, making them comparable. It helps improve model performance by ensuring features contribute equally and optimizes gradient descent convergence.\n",
        "\n",
        "### 22. How do we perform scaling in Python?\n",
        "Scaling in Python can be performed using `StandardScaler`, `MinMaxScaler`, or `RobustScaler` from `sklearn.preprocessing`. These functions transform features to a standardized range.\n",
        "\n",
        "### 23. What is sklearn.preprocessing?\n",
        "`sklearn.preprocessing` is a module in the scikit-learn library that provides various functions to preprocess data, including scaling, encoding, and normalization, making it suitable for machine learning models.\n",
        "\n",
        "### 24. How do we split data for model fitting (training and testing) in Python?\n",
        "In Python, data can be split using the `train_test_split` function from `sklearn.model_selection`. It splits the data into training and testing sets based on a specified ratio.\n",
        "\n",
        "### 25. Explain data encoding?\n",
        "Data encoding converts categorical data into numerical formats suitable for machine learning algorithms. Techniques include one-hot encoding, label encoding, and binary encoding.\n"
      ],
      "metadata": {
        "id": "PE6EVW7wl5Qa"
      }
    },
    {
      "cell_type": "code",
      "source": [],
      "metadata": {
        "id": "2sbyzaWSnPbk"
      },
      "execution_count": null,
      "outputs": []
    }
  ]
}