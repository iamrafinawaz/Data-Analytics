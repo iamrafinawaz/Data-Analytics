{
  "nbformat": 4,
  "nbformat_minor": 0,
  "metadata": {
    "colab": {
      "provenance": [],
      "authorship_tag": "ABX9TyOzRtB7tglvz3lKB8ITNot8",
      "include_colab_link": true
    },
    "kernelspec": {
      "name": "python3",
      "display_name": "Python 3"
    },
    "language_info": {
      "name": "python"
    }
  },
  "cells": [
    {
      "cell_type": "markdown",
      "metadata": {
        "id": "view-in-github",
        "colab_type": "text"
      },
      "source": [
        "<a href=\"https://colab.research.google.com/github/iamrafinawaz/Data-Analytics/blob/main/Ensemble_Learning.ipynb\" target=\"_parent\"><img src=\"https://colab.research.google.com/assets/colab-badge.svg\" alt=\"Open In Colab\"/></a>"
      ]
    },
    {
      "cell_type": "markdown",
      "source": [
        "\n",
        "1. Bagging can be used for regression by averaging predictions from models trained on data subsets.  \n",
        "2. Multiple model training combines predictions from various models, while single model training uses just one.  \n",
        "3. Feature randomness ensures trees in Random Forests consider different subsets of features.  \n",
        "4. OOB (Out-of-Bag) Score measures accuracy using data left out during bootstrap sampling.  \n",
        "5. Feature importance is calculated by observing impurity reduction or permutation importance.  \n",
        "6. Bagging Classifier combines outputs of models trained on different data subsets via bootstrap sampling.  \n",
        "7. Performance of Bagging Classifier is evaluated using metrics like accuracy, precision, and recall.  \n",
        "8. Bagging Regressor averages predictions from regressors trained on diverse data subsets.  \n",
        "9. Ensemble techniques improve accuracy and robustness by combining multiple models.  \n",
        "10. Challenges in ensembles include complexity, high computation, and difficulty in interpretation.  \n",
        "11. Ensemble techniques combine multiple models to boost overall accuracy and stability.  \n",
        "12. Random Forest Classifier uses multiple decision trees and aggregates predictions to classify data.  \n",
        "13. Types of ensemble techniques include Bagging, Boosting, Stacking, and Voting.  \n",
        "14. Ensemble learning combines multiple models to reduce errors and improve accuracy.  \n",
        "15. Avoid ensembles for simple problems or when resources are limited.  \n",
        "16. Bagging reduces overfitting by ensuring diversity in training data subsets.  \n",
        "17. Random Forest improves over Decision Trees by reducing overfitting and enhancing robustness.  \n",
        "18. Bootstrap sampling in Bagging creates varied data subsets for training multiple models.  \n",
        "19. Ensemble techniques are used for fraud detection, spam filtering, medical diagnosis, and more.  \n",
        "20. Bagging reduces variance by averaging predictions, while Boosting reduces bias by focusing on misclassified samples.\n",
        "\n"
      ],
      "metadata": {
        "id": "ELOsw9FaBp92"
      }
    },
    {
      "cell_type": "code",
      "source": [
        "# 21\n",
        "from sklearn.ensemble import BaggingClassifier\n",
        "from sklearn.tree import DecisionTreeClassifier\n",
        "from sklearn.datasets import load_iris\n",
        "from sklearn.model_selection import train_test_split\n",
        "from sklearn.metrics import accuracy_score\n",
        "\n",
        "data = load_iris()\n",
        "X, y = data.data, data.target\n",
        "X_train, X_test, y_train, y_test = train_test_split(X, y, test_size=0.2, random_state=42)\n",
        "bagging_clf = BaggingClassifier(estimator=DecisionTreeClassifier(), n_estimators=10, random_state=42)\n",
        "bagging_clf.fit(X_train, y_train)\n",
        "y_pred = bagging_clf.predict(X_test)\n",
        "print(\"Accuracy:\", accuracy_score(y_test, y_pred))"
      ],
      "metadata": {
        "colab": {
          "base_uri": "https://localhost:8080/"
        },
        "id": "sNbk4MinCaxv",
        "outputId": "59f230af-3975-430e-ee6b-f18fb1397d5b"
      },
      "execution_count": 3,
      "outputs": [
        {
          "output_type": "stream",
          "name": "stdout",
          "text": [
            "Accuracy: 1.0\n"
          ]
        }
      ]
    },
    {
      "cell_type": "code",
      "source": [
        "# 22\n",
        "from sklearn.ensemble import BaggingRegressor\n",
        "from sklearn.tree import DecisionTreeRegressor\n",
        "from sklearn.datasets import make_regression\n",
        "from sklearn.metrics import mean_squared_error\n",
        "from sklearn.model_selection import train_test_split\n",
        "\n",
        "X, y = make_regression(n_samples=500, n_features=4, noise=0.2, random_state=42)\n",
        "X_train, X_test, y_train, y_test = train_test_split(X, y, test_size=0.2, random_state=42)\n",
        "bagging_reg = BaggingRegressor(estimator=DecisionTreeRegressor(), n_estimators=10, random_state=42)\n",
        "bagging_reg.fit(X_train, y_train)\n",
        "y_pred = bagging_reg.predict(X_test)\n",
        "print(\"MSE:\", mean_squared_error(y_test, y_pred))"
      ],
      "metadata": {
        "colab": {
          "base_uri": "https://localhost:8080/"
        },
        "id": "oykF2c4YCb0s",
        "outputId": "18bd0cdf-06a4-4945-af8f-13ea880975b3"
      },
      "execution_count": 5,
      "outputs": [
        {
          "output_type": "stream",
          "name": "stdout",
          "text": [
            "MSE: 208.20483400386092\n"
          ]
        }
      ]
    },
    {
      "cell_type": "code",
      "source": [
        "# 23\n",
        "from sklearn.ensemble import RandomForestClassifier\n",
        "from sklearn.datasets import load_breast_cancer\n",
        "\n",
        "data = load_breast_cancer()\n",
        "X, y = data.data, data.target\n",
        "X_train, X_test, y_train, y_test = train_test_split(X, y, test_size=0.2, random_state=42)\n",
        "rf_clf = RandomForestClassifier(n_estimators=100, random_state=42)\n",
        "rf_clf.fit(X_train, y_train)\n",
        "print(\"Feature Importance:\", rf_clf.feature_importances_)"
      ],
      "metadata": {
        "colab": {
          "base_uri": "https://localhost:8080/"
        },
        "id": "6Pl0g05GChIk",
        "outputId": "dcb89d37-cde2-44e9-a766-8de7427f6f00"
      },
      "execution_count": 2,
      "outputs": [
        {
          "output_type": "stream",
          "name": "stdout",
          "text": [
            "Feature Importance: [0.04870337 0.01359088 0.05326975 0.04755501 0.00728533 0.01394433\n",
            " 0.06800084 0.10620999 0.00377029 0.00388577 0.02013892 0.00472399\n",
            " 0.01130301 0.02240696 0.00427091 0.00525322 0.00938583 0.00351326\n",
            " 0.00401842 0.00532146 0.07798688 0.02174901 0.06711483 0.15389236\n",
            " 0.01064421 0.02026604 0.0318016  0.14466327 0.01012018 0.00521012]\n"
          ]
        }
      ]
    },
    {
      "cell_type": "code",
      "source": [
        "# 24\n",
        "from sklearn.ensemble import RandomForestRegressor\n",
        "from sklearn.tree import DecisionTreeRegressor\n",
        "from sklearn.metrics import mean_squared_error\n",
        "\n",
        "rf_reg = RandomForestRegressor(n_estimators=100, random_state=42)\n",
        "dt_reg = DecisionTreeRegressor(random_state=42)\n",
        "rf_reg.fit(X_train, y_train)\n",
        "dt_reg.fit(X_train, y_train)\n",
        "print(\"Random Forest MSE:\", mean_squared_error(y_test, rf_reg.predict(X_test)))\n",
        "print(\"Decision Tree MSE:\", mean_squared_error(y_test, dt_reg.predict(X_test)))"
      ],
      "metadata": {
        "colab": {
          "base_uri": "https://localhost:8080/"
        },
        "id": "FcMJNtl-Ckzf",
        "outputId": "d95403f3-c968-4371-adff-3e46c1fd2510"
      },
      "execution_count": 6,
      "outputs": [
        {
          "output_type": "stream",
          "name": "stdout",
          "text": [
            "Random Forest MSE: 196.56910464619375\n",
            "Decision Tree MSE: 336.29278141370037\n"
          ]
        }
      ]
    },
    {
      "cell_type": "code",
      "source": [
        "# 25\n",
        "from sklearn.datasets import load_iris\n",
        "from sklearn.ensemble import RandomForestClassifier\n",
        "from sklearn.model_selection import train_test_split\n",
        "\n",
        "data = load_iris()\n",
        "X, y = data.data, data.target\n",
        "X_train, X_test, y_train, y_test = train_test_split(X, y, test_size=0.2, random_state=42)\n",
        "\n",
        "rf_clf_oob = RandomForestClassifier(n_estimators=100, oob_score=True, random_state=42)\n",
        "rf_clf_oob.fit(X_train, y_train)\n",
        "print(\"OOB Score:\", rf_clf_oob.oob_score_)"
      ],
      "metadata": {
        "colab": {
          "base_uri": "https://localhost:8080/"
        },
        "id": "fVXSgiFzDI15",
        "outputId": "d25cd002-49b6-45dd-b383-10fb8c000b45"
      },
      "execution_count": 8,
      "outputs": [
        {
          "output_type": "stream",
          "name": "stdout",
          "text": [
            "OOB Score: 0.9166666666666666\n"
          ]
        }
      ]
    },
    {
      "cell_type": "code",
      "source": [
        "# 26\n",
        "from sklearn.svm import SVC\n",
        "from sklearn.ensemble import BaggingClassifier\n",
        "from sklearn.model_selection import train_test_split\n",
        "from sklearn.metrics import accuracy_score\n",
        "from sklearn.datasets import load_iris\n",
        "\n",
        "data = load_iris()\n",
        "X, y = data.data, data.target\n",
        "X_train, X_test, y_train, y_test = train_test_split(X, y, test_size=0.2, random_state=42)\n",
        "\n",
        "bagging_svm = BaggingClassifier(estimator=SVC(), n_estimators=10, random_state=42)\n",
        "bagging_svm.fit(X_train, y_train)\n",
        "print(\"Accuracy:\", accuracy_score(y_test, bagging_svm.predict(X_test)))"
      ],
      "metadata": {
        "colab": {
          "base_uri": "https://localhost:8080/"
        },
        "id": "8Ml_qh3fDL5R",
        "outputId": "4f7b6602-8943-470e-9b6c-eb40486f316d"
      },
      "execution_count": 10,
      "outputs": [
        {
          "output_type": "stream",
          "name": "stdout",
          "text": [
            "Accuracy: 1.0\n"
          ]
        }
      ]
    },
    {
      "cell_type": "code",
      "source": [
        "# 27\n",
        "for n_trees in [10, 50, 100]:\n",
        "    rf_clf_trees = RandomForestClassifier(n_estimators=n_trees, random_state=42)\n",
        "    rf_clf_trees.fit(X_train, y_train)\n",
        "    y_pred_trees = rf_clf_trees.predict(X_test)\n",
        "    print(f\"Accuracy with {n_trees} trees:\", accuracy_score(y_test, y_pred_trees))"
      ],
      "metadata": {
        "colab": {
          "base_uri": "https://localhost:8080/"
        },
        "id": "-Rq35hhoDbo-",
        "outputId": "b6134459-3118-4628-c36e-b00f5b6fca93"
      },
      "execution_count": 11,
      "outputs": [
        {
          "output_type": "stream",
          "name": "stdout",
          "text": [
            "Accuracy with 10 trees: 1.0\n",
            "Accuracy with 50 trees: 1.0\n",
            "Accuracy with 100 trees: 1.0\n"
          ]
        }
      ]
    },
    {
      "cell_type": "code",
      "source": [
        "# 28\n",
        "from sklearn.ensemble import BaggingClassifier\n",
        "from sklearn.linear_model import LogisticRegression\n",
        "from sklearn.metrics import roc_auc_score\n",
        "from sklearn.model_selection import train_test_split\n",
        "from sklearn.datasets import make_classification\n",
        "\n",
        "X, y = make_classification(n_samples=500, n_features=10, n_classes=2, random_state=42)\n",
        "X_train, X_test, y_train, y_test = train_test_split(X, y, test_size=0.2, random_state=42)\n",
        "\n",
        "bagging_lr = BaggingClassifier(estimator=LogisticRegression(solver='liblinear'), n_estimators=10, random_state=42)\n",
        "bagging_lr.fit(X_train, y_train)\n",
        "\n",
        "auc_score = roc_auc_score(y_test, bagging_lr.predict_proba(X_test)[:, 1])\n",
        "print(\"AUC Score:\", auc_score)"
      ],
      "metadata": {
        "colab": {
          "base_uri": "https://localhost:8080/"
        },
        "id": "0eDSv43TDoqw",
        "outputId": "95fe5a82-9538-418a-8a13-046c30f8c12f"
      },
      "execution_count": 18,
      "outputs": [
        {
          "output_type": "stream",
          "name": "stdout",
          "text": [
            "AUC Score: 0.9452495974235106\n"
          ]
        }
      ]
    },
    {
      "cell_type": "code",
      "source": [
        "\n",
        "# 29\n",
        "from sklearn.ensemble import RandomForestRegressor\n",
        "from sklearn.datasets import make_regression\n",
        "from sklearn.model_selection import train_test_split\n",
        "from sklearn.metrics import mean_squared_error\n",
        "\n",
        "X, y = make_regression(n_samples=500, n_features=10, noise=0.2, random_state=42)\n",
        "X_train, X_test, y_train, y_test = train_test_split(X, y, test_size=0.2, random_state=42)\n",
        "\n",
        "rf_reg = RandomForestRegressor(n_estimators=100, random_state=42)\n",
        "rf_reg.fit(X_train, y_train)\n",
        "\n",
        "\n",
        "print(\"Feature Importance Scores:\", rf_reg.feature_importances_)"
      ],
      "metadata": {
        "colab": {
          "base_uri": "https://localhost:8080/"
        },
        "id": "LrKudFbQDrQ2",
        "outputId": "c304fff5-e915-4c0d-cf9d-dd334a6da406"
      },
      "execution_count": 20,
      "outputs": [
        {
          "output_type": "stream",
          "name": "stdout",
          "text": [
            "Feature Importance Scores: [0.08835111 0.16543666 0.02262285 0.08276377 0.02632669 0.02137783\n",
            " 0.36136479 0.18194821 0.01923195 0.03057614]\n"
          ]
        }
      ]
    },
    {
      "cell_type": "code",
      "source": [
        "# 30\n",
        "from sklearn.ensemble import BaggingClassifier, RandomForestClassifier\n",
        "from sklearn.datasets import load_iris\n",
        "from sklearn.model_selection import train_test_split\n",
        "from sklearn.metrics import accuracy_score\n",
        "\n",
        "data = load_iris()\n",
        "X, y = data.data, data.target\n",
        "X_train, X_test, y_train, y_test = train_test_split(X, y, test_size=0.2, random_state=42)\n",
        "\n",
        "bagging_clf = BaggingClassifier(estimator=RandomForestClassifier(n_estimators=50, random_state=42), n_estimators=10, random_state=42)\n",
        "bagging_clf.fit(X_train, y_train)\n",
        "rf_clf = RandomForestClassifier(n_estimators=100, random_state=42)\n",
        "rf_clf.fit(X_train, y_train)\n",
        "\n",
        "bagging_accuracy = accuracy_score(y_test, bagging_clf.predict(X_test))\n",
        "rf_accuracy = accuracy_score(y_test, rf_clf.predict(X_test))\n",
        "\n",
        "print(\"Bagging Classifier Accuracy:\", bagging_accuracy)\n",
        "print(\"Random Forest Classifier Accuracy:\", rf_accuracy)"
      ],
      "metadata": {
        "colab": {
          "base_uri": "https://localhost:8080/"
        },
        "id": "mCQrxhzJEXEs",
        "outputId": "0427bc8a-c209-460f-fe9e-d67ec3dac9e8"
      },
      "execution_count": 21,
      "outputs": [
        {
          "output_type": "stream",
          "name": "stdout",
          "text": [
            "Bagging Classifier Accuracy: 1.0\n",
            "Random Forest Classifier Accuracy: 1.0\n"
          ]
        }
      ]
    },
    {
      "cell_type": "code",
      "source": [
        "# 31\n",
        "from sklearn.ensemble import RandomForestClassifier\n",
        "from sklearn.model_selection import GridSearchCV, train_test_split\n",
        "from sklearn.datasets import load_iris\n",
        "from sklearn.metrics import accuracy_score\n",
        "\n",
        "data = load_iris()\n",
        "X, y = data.data, data.target\n",
        "X_train, X_test, y_train, y_test = train_test_split(X, y, test_size=0.2, random_state=42)\n",
        "param_grid = {'n_estimators': [10, 50, 100], 'max_depth': [None, 10, 20]}\n",
        "grid_search = GridSearchCV(RandomForestClassifier(random_state=42), param_grid, cv=5)\n",
        "grid_search.fit(X_train, y_train)\n",
        "y_pred = grid_search.best_estimator_.predict(X_test)\n",
        "print(\"Best Parameters:\", grid_search.best_params_)\n",
        "print(\"Accuracy:\", accuracy_score(y_test, y_pred))"
      ],
      "metadata": {
        "colab": {
          "base_uri": "https://localhost:8080/"
        },
        "id": "ypUA2V59Eo-1",
        "outputId": "5996a716-0c92-448c-db5e-9537f0e66d47"
      },
      "execution_count": 22,
      "outputs": [
        {
          "output_type": "stream",
          "name": "stdout",
          "text": [
            "Best Parameters: {'max_depth': None, 'n_estimators': 10}\n",
            "Accuracy: 1.0\n"
          ]
        }
      ]
    },
    {
      "cell_type": "code",
      "source": [
        "# 32\n",
        "from sklearn.ensemble import BaggingRegressor\n",
        "from sklearn.tree import DecisionTreeRegressor\n",
        "from sklearn.neighbors import KNeighborsRegressor\n",
        "from sklearn.datasets import make_regression\n",
        "from sklearn.model_selection import train_test_split\n",
        "from sklearn.metrics import mean_squared_error\n",
        "\n",
        "X, y = make_regression(n_samples=500, n_features=4, random_state=42)\n",
        "X_train, X_test, y_train, y_test = train_test_split(X, y, test_size=0.2, random_state=42)\n",
        "for n_estimators in [5, 10, 20]:\n",
        "    bagging_reg = BaggingRegressor(estimator=DecisionTreeRegressor(), n_estimators=n_estimators, random_state=42)\n",
        "    bagging_reg.fit(X_train, y_train)\n",
        "    print(f\"Number of Base Estimators: {n_estimators}, MSE: {mean_squared_error(y_test, bagging_reg.predict(X_test))}\")"
      ],
      "metadata": {
        "colab": {
          "base_uri": "https://localhost:8080/"
        },
        "id": "YgFCgCS2E6wF",
        "outputId": "f8cc7cc0-3ed8-4f64-fa32-4b54faef7092"
      },
      "execution_count": 23,
      "outputs": [
        {
          "output_type": "stream",
          "name": "stdout",
          "text": [
            "Number of Base Estimators: 5, MSE: 249.81840068678338\n",
            "Number of Base Estimators: 10, MSE: 197.51829708135952\n",
            "Number of Base Estimators: 20, MSE: 195.44886517409049\n"
          ]
        }
      ]
    },
    {
      "cell_type": "code",
      "source": [
        "# 33\n",
        "from sklearn.ensemble import RandomForestClassifier\n",
        "from sklearn.datasets import load_iris\n",
        "from sklearn.metrics import confusion_matrix\n",
        "\n",
        "data = load_iris()\n",
        "X, y = data.data, data.target\n",
        "X_train, X_test, y_train, y_test = train_test_split(X, y, test_size=0.2, random_state=42)\n",
        "rf_clf = RandomForestClassifier(random_state=42)\n",
        "rf_clf.fit(X_train, y_train)\n",
        "y_pred = rf_clf.predict(X_test)\n",
        "misclassified_samples = [(i, pred, true) for i, (pred, true) in enumerate(zip(y_pred, y_test)) if pred != true]\n",
        "print(\"Misclassified Samples:\", misclassified_samples)"
      ],
      "metadata": {
        "colab": {
          "base_uri": "https://localhost:8080/"
        },
        "id": "6XqmtwHzE_gy",
        "outputId": "c7ee095b-c382-401d-998f-ca7e5a94d77d"
      },
      "execution_count": 24,
      "outputs": [
        {
          "output_type": "stream",
          "name": "stdout",
          "text": [
            "Misclassified Samples: []\n"
          ]
        }
      ]
    },
    {
      "cell_type": "code",
      "source": [
        "# 34\n",
        "from sklearn.ensemble import BaggingClassifier\n",
        "from sklearn.tree import DecisionTreeClassifier\n",
        "from sklearn.model_selection import train_test_split\n",
        "from sklearn.metrics import accuracy_score\n",
        "\n",
        "data = load_iris()\n",
        "X, y = data.data, data.target\n",
        "X_train, X_test, y_train, y_test = train_test_split(X, y, test_size=0.2, random_state=42)\n",
        "bagging_clf = BaggingClassifier(estimator=DecisionTreeClassifier(), n_estimators=10, random_state=42)\n",
        "single_tree = DecisionTreeClassifier(random_state=42)\n",
        "bagging_clf.fit(X_train, y_train)\n",
        "single_tree.fit(X_train, y_train)\n",
        "print(\"Bagging Accuracy:\", accuracy_score(y_test, bagging_clf.predict(X_test)))\n",
        "print(\"Single Tree Accuracy:\", accuracy_score(y_test, single_tree.predict(X_test)))"
      ],
      "metadata": {
        "colab": {
          "base_uri": "https://localhost:8080/"
        },
        "id": "DxkSenHgFCBK",
        "outputId": "675a8643-ffa7-4427-e78a-62f5f0bc0b67"
      },
      "execution_count": 25,
      "outputs": [
        {
          "output_type": "stream",
          "name": "stdout",
          "text": [
            "Bagging Accuracy: 1.0\n",
            "Single Tree Accuracy: 1.0\n"
          ]
        }
      ]
    },
    {
      "cell_type": "code",
      "source": [
        "# 35\n",
        "from sklearn.metrics import confusion_matrix, ConfusionMatrixDisplay\n",
        "\n",
        "rf_clf = RandomForestClassifier(random_state=42)\n",
        "rf_clf.fit(X_train, y_train)\n",
        "y_pred = rf_clf.predict(X_test)\n",
        "cm = confusion_matrix(y_test, y_pred)\n",
        "ConfusionMatrixDisplay(cm).plot()"
      ],
      "metadata": {
        "colab": {
          "base_uri": "https://localhost:8080/",
          "height": 466
        },
        "id": "-JQ5MpJ3FES9",
        "outputId": "9d9992c4-36fa-44b3-b06d-44c6abfdf502"
      },
      "execution_count": 26,
      "outputs": [
        {
          "output_type": "execute_result",
          "data": {
            "text/plain": [
              "<sklearn.metrics._plot.confusion_matrix.ConfusionMatrixDisplay at 0x7b119ac6ed50>"
            ]
          },
          "metadata": {},
          "execution_count": 26
        },
        {
          "output_type": "display_data",
          "data": {
            "text/plain": [
              "<Figure size 640x480 with 2 Axes>"
            ],
            "image/png": "[encoded data removed]"
          },
          "metadata": {}
        }
      ]
    },
    {
      "cell_type": "code",
      "source": [
        "# 36\n",
        "from sklearn.ensemble import StackingClassifier\n",
        "from sklearn.svm import SVC\n",
        "from sklearn.linear_model import LogisticRegression\n",
        "\n",
        "stacking_clf = StackingClassifier(estimators=[\n",
        "    ('dt', DecisionTreeClassifier()),\n",
        "    ('svm', SVC(probability=True)),\n",
        "    ('lr', LogisticRegression(solver='liblinear'))\n",
        "], final_estimator=LogisticRegression())\n",
        "stacking_clf.fit(X_train, y_train)\n",
        "print(\"Stacking Accuracy:\", accuracy_score(y_test, stacking_clf.predict(X_test)))"
      ],
      "metadata": {
        "colab": {
          "base_uri": "https://localhost:8080/"
        },
        "id": "_oKUEsDRFGk9",
        "outputId": "6e764384-42d9-412f-b2ea-161348776d43"
      },
      "execution_count": 27,
      "outputs": [
        {
          "output_type": "stream",
          "name": "stdout",
          "text": [
            "Stacking Accuracy: 1.0\n"
          ]
        }
      ]
    },
    {
      "cell_type": "code",
      "source": [
        "# 37\n",
        "rf_clf = RandomForestClassifier(n_estimators=100, random_state=42)\n",
        "rf_clf.fit(X_train, y_train)\n",
        "feature_importances = rf_clf.feature_importances_\n",
        "top_5_features = sorted(enumerate(feature_importances), key=lambda x: x[1], reverse=True)[:5]\n",
        "print(\"Top 5 Features:\", top_5_features)"
      ],
      "metadata": {
        "colab": {
          "base_uri": "https://localhost:8080/"
        },
        "id": "ssX_ObzYFI6R",
        "outputId": "fb45453d-9fb0-4da4-90dd-b1937465d5c8"
      },
      "execution_count": 28,
      "outputs": [
        {
          "output_type": "stream",
          "name": "stdout",
          "text": [
            "Top 5 Features: [(2, np.float64(0.43999397414456937)), (3, np.float64(0.4215215887397244)), (0, np.float64(0.10809762464246378)), (1, np.float64(0.030386812473242528))]\n"
          ]
        }
      ]
    },
    {
      "cell_type": "code",
      "source": [
        "# 38\n",
        "from sklearn.metrics import precision_score, recall_score, f1_score\n",
        "\n",
        "bagging_clf.fit(X_train, y_train)\n",
        "y_pred = bagging_clf.predict(X_test)\n",
        "print(\"Precision:\", precision_score(y_test, y_pred, average='weighted'))\n",
        "print(\"Recall:\", recall_score(y_test, y_pred, average='weighted'))\n",
        "print(\"F1 Score:\", f1_score(y_test, y_pred, average='weighted'))"
      ],
      "metadata": {
        "colab": {
          "base_uri": "https://localhost:8080/"
        },
        "id": "f56KWpKbFLav",
        "outputId": "ef7eb466-034b-41b4-82c6-717aa501bebc"
      },
      "execution_count": 29,
      "outputs": [
        {
          "output_type": "stream",
          "name": "stdout",
          "text": [
            "Precision: 1.0\n",
            "Recall: 1.0\n",
            "F1 Score: 1.0\n"
          ]
        }
      ]
    },
    {
      "cell_type": "code",
      "source": [
        "# 39\n",
        "for max_depth in [None, 10, 20]:\n",
        "    rf_clf = RandomForestClassifier(max_depth=max_depth, random_state=42)\n",
        "    rf_clf.fit(X_train, y_train)\n",
        "    print(f\"Max Depth: {max_depth}, Accuracy: {accuracy_score(y_test, rf_clf.predict(X_test))}\")"
      ],
      "metadata": {
        "colab": {
          "base_uri": "https://localhost:8080/"
        },
        "id": "PKN9-0-wFORm",
        "outputId": "1cac70b6-d5d5-4014-dad8-73130bfe7ff8"
      },
      "execution_count": 30,
      "outputs": [
        {
          "output_type": "stream",
          "name": "stdout",
          "text": [
            "Max Depth: None, Accuracy: 1.0\n",
            "Max Depth: 10, Accuracy: 1.0\n",
            "Max Depth: 20, Accuracy: 1.0\n"
          ]
        }
      ]
    },
    {
      "cell_type": "code",
      "source": [
        "# 40\n",
        "for estimator in [DecisionTreeRegressor(), KNeighborsRegressor()]:\n",
        "    bagging_reg = BaggingRegressor(estimator=estimator, n_estimators=10, random_state=42)\n",
        "    bagging_reg.fit(X_train, y_train)\n",
        "    print(f\"Base Estimator: {type(estimator).__name__}, MSE: {mean_squared_error(y_test, bagging_reg.predict(X_test))}\")"
      ],
      "metadata": {
        "colab": {
          "base_uri": "https://localhost:8080/"
        },
        "id": "uC3gHV8JFQaX",
        "outputId": "7feeccf1-6e4a-44eb-8f93-2fce1b5e6f28"
      },
      "execution_count": 31,
      "outputs": [
        {
          "output_type": "stream",
          "name": "stdout",
          "text": [
            "Base Estimator: DecisionTreeRegressor, MSE: 0.0006666666666666678\n",
            "Base Estimator: KNeighborsRegressor, MSE: 0.007493333333333321\n"
          ]
        }
      ]
    },
    {
      "cell_type": "code",
      "source": [
        "# 41\n",
        "from sklearn.metrics import roc_auc_score\n",
        "\n",
        "rf_clf = RandomForestClassifier(random_state=42)\n",
        "rf_clf.fit(X_train, y_train)\n",
        "print(\"ROC-AUC Score:\", roc_auc_score(y_test, rf_clf.predict_proba(X_test), multi_class='ovr'))"
      ],
      "metadata": {
        "colab": {
          "base_uri": "https://localhost:8080/"
        },
        "id": "Y4S6AbhBFTTo",
        "outputId": "30bcefc3-c7b9-4070-a0dd-c2be37538fcb"
      },
      "execution_count": 32,
      "outputs": [
        {
          "output_type": "stream",
          "name": "stdout",
          "text": [
            "ROC-AUC Score: 1.0\n"
          ]
        }
      ]
    },
    {
      "cell_type": "code",
      "source": [
        "# 42\n",
        "from sklearn.model_selection import cross_val_score\n",
        "\n",
        "bagging_clf = BaggingClassifier(estimator=DecisionTreeClassifier(), n_estimators=10, random_state=42)\n",
        "scores = cross_val_score(bagging_clf, X, y, cv=5)\n",
        "print(\"Cross-Validation Scores:\", scores)"
      ],
      "metadata": {
        "colab": {
          "base_uri": "https://localhost:8080/"
        },
        "id": "fDl5KWhmFV8z",
        "outputId": "f6482bb9-6b5c-4be6-8d8a-0e293f2141f1"
      },
      "execution_count": 33,
      "outputs": [
        {
          "output_type": "stream",
          "name": "stdout",
          "text": [
            "Cross-Validation Scores: [0.96666667 0.96666667 0.9        0.93333333 1.        ]\n"
          ]
        }
      ]
    },
    {
      "cell_type": "code",
      "source": [
        "# 43\n",
        "from sklearn.metrics import precision_recall_curve\n",
        "from sklearn.metrics import PrecisionRecallDisplay\n",
        "from sklearn.preprocessing import label_binarize\n",
        "\n",
        "y_binarized = label_binarize(y_test, classes=[0, 1, 2])\n",
        "\n",
        "for i in range(y_binarized.shape[1]):\n",
        "    precision, recall, _ = precision_recall_curve(y_binarized[:, i], y_scores[:, i])\n",
        "    PrecisionRecallDisplay(precision=precision, recall=recall).plot()"
      ],
      "metadata": {
        "colab": {
          "base_uri": "https://localhost:8080/",
          "height": 1000
        },
        "id": "GvpvH3xpFYBt",
        "outputId": "c6ffbb2e-eda3-4960-9c89-6c7cec488422"
      },
      "execution_count": 36,
      "outputs": [
        {
          "output_type": "display_data",
          "data": {
            "text/plain": [
              "<Figure size 640x480 with 1 Axes>"
            ],
            "image/png": "[encoded data removed]"
          },
          "metadata": {}
        },
        {
          "output_type": "display_data",
          "data": {
            "text/plain": [
              "<Figure size 640x480 with 1 Axes>"
            ],
            "image/png": "[encoded data removed]"
          },
          "metadata": {}
        },
        {
          "output_type": "display_data",
          "data": {
            "text/plain": [
              "<Figure size 640x480 with 1 Axes>"
            ],
            "image/png": "[encoded data removed]"
          },
          "metadata": {}
        }
      ]
    },
    {
      "cell_type": "code",
      "source": [
        "# 44\n",
        "stacking_clf = StackingClassifier(estimators=[\n",
        "    ('rf', RandomForestClassifier(n_estimators=50)),\n",
        "    ('lr', LogisticRegression(solver='liblinear'))\n",
        "], final_estimator=LogisticRegression())\n",
        "stacking_clf.fit(X_train, y_train)\n",
        "print(\"Stacking Accuracy:\", accuracy_score(y_test, stacking_clf.predict(X_test)))"
      ],
      "metadata": {
        "colab": {
          "base_uri": "https://localhost:8080/"
        },
        "id": "j_wqrAM-Far_",
        "outputId": "67b2fa7b-a352-4d7e-bc7d-429e1ddc8ccf"
      },
      "execution_count": 37,
      "outputs": [
        {
          "output_type": "stream",
          "name": "stdout",
          "text": [
            "Stacking Accuracy: 1.0\n"
          ]
        }
      ]
    },
    {
      "cell_type": "code",
      "source": [
        "# 45\n",
        "for bootstrap in [True, False]:\n",
        "    bagging_reg = BaggingRegressor(estimator=DecisionTreeRegressor(), n_estimators=10, bootstrap=bootstrap, random_state=42)\n",
        "    bagging_reg.fit(X_train, y_train)\n",
        "    print(f\"Bootstrap: {bootstrap}, MSE: {mean_squared_error(y_test, bagging_reg.predict(X_test))}\")"
      ],
      "metadata": {
        "colab": {
          "base_uri": "https://localhost:8080/"
        },
        "id": "oNUW3yJLFtsG",
        "outputId": "42494076-6ac9-45df-c6bc-8ddddc1c7af7"
      },
      "execution_count": 38,
      "outputs": [
        {
          "output_type": "stream",
          "name": "stdout",
          "text": [
            "Bootstrap: True, MSE: 0.0006666666666666678\n",
            "Bootstrap: False, MSE: 0.0\n"
          ]
        }
      ]
    },
    {
      "cell_type": "code",
      "source": [],
      "metadata": {
        "id": "onChbAXnFyy1"
      },
      "execution_count": null,
      "outputs": []
    }
  ]
}