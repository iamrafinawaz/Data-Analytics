{
  "nbformat": 4,
  "nbformat_minor": 0,
  "metadata": {
    "colab": {
      "provenance": [],
      "authorship_tag": "ABX9TyPggSo0oCeu1RI+qaTlt5kc",
      "include_colab_link": true
    },
    "kernelspec": {
      "name": "python3",
      "display_name": "Python 3"
    },
    "language_info": {
      "name": "python"
    }
  },
  "cells": [
    {
      "cell_type": "markdown",
      "metadata": {
        "id": "view-in-github",
        "colab_type": "text"
      },
      "source": [
        "<a href=\"https://colab.research.google.com/github/iamrafinawaz/Data-Analytics/blob/main/Data_Structures.ipynb\" target=\"_parent\"><img src=\"https://colab.research.google.com/assets/colab-badge.svg\" alt=\"Open In Colab\"/></a>"
      ]
    },
    {
      "cell_type": "markdown",
      "source": [
        "Data Types and Structures Questions\n",
        "\n",
        "\n",
        "Subjective Questions\n",
        "\n",
        "1. What are data structures, and why are they important?\n",
        "\n",
        "Ans.\n",
        "\n",
        "Data structures are specialize   \n",
        "formats used to store and organize data efficiently.\n",
        "It's important because it provide various ways to store, access, manipulate data according to specific need.\n",
        "\n",
        "2. Explain the difference between mutable and immutable data types with examples.\n",
        "\n",
        "Ans.\n",
        "\n",
        "Mutable data types can be modified after creation while immutable data types cannot be changed once they are created.\n",
        "\n",
        "\n",
        "my_list = [1, 2, 3]\n",
        "my_list[0] = 10  # Modifies the first element beacuse lists mutable\n",
        "print(my_list)  # Output: [10, 2, 3]\n",
        "\n",
        "my_tuple = (1, 2, 3)\n",
        "my_tuple[0] = 10  # This will raise a TypeError beacse tuples are immutable\n",
        "\n",
        "3. What are the main differences between lists and tuples in Python?\n",
        "\n",
        "Ans.\n",
        "\n",
        "Lists are mutable while tuples are immutable.\n",
        "\n",
        "4. Describe how dictionaries store data?\n",
        "\n",
        "Ans.\n",
        "\n",
        "Dictionaries in Python store data as key-value pairs. Each key is unique and maps to a specific value.\n",
        "\n",
        "my_dict = {'name': 'Mangesh', 'age': 25, 'city': 'Noida'}\n",
        "\n",
        "5. Why might you use a set instead of a list in Python?\n",
        "\n",
        "Ans.\n",
        "Whenever I have store data which doesn't allow duplicacy, I'll use set instead of list becasue sets stores unique collection of elements and doesn't allow duplicate elements.\n",
        "\n",
        "\n",
        "6. What is a string in Python, and how is it different from a list?\n",
        "\n",
        "Ans.\n",
        "String is a sequence of characterrepresent and manipulate textual data.\n",
        "\n",
        "Stings are immutable and stores homogenous elements while lists are mutable and can store hetrogenous elements.\n",
        "\n",
        "7. How do tuples ensure data integrity in Python?\n",
        "\n",
        "Ans.\n",
        "Tuples are immuatble means we can't change the state of tuples. So for maintaing data intergrity we use tuples.\n",
        "\n",
        "8. What is a hash table, and how does it relate to dictionaries in Python?\n",
        "\n",
        "Ans.\n",
        "A hash table is a data structure that maps keys to values using a hash function, enabling efficient data retrieval, insertion, and deletion.\n",
        "\n",
        "Python dictionaries use hash tables to store key-value pairs efficiently, allowing quick access to values via hashed keys.\n",
        "\n",
        "9. Can lists contain different data types in Python?\n",
        "\n",
        "Ans.\n",
        "Yes, a list can store different data types in python.\n",
        "\n",
        "10.  Explain why strings are immutable in Python?\n",
        "\n",
        "Ans.\n",
        "Strings in Python are immutable because once we create a string, it stays the same. This helps save memory, keeps our data secure, and makes Python work faster and more reliably.\n",
        "\n",
        "11.  What advantages do dictionaries offer over lists for certain tasks?\n",
        "\n",
        "Ans.\n",
        "Dictionaries are better than lists for some tasks because they can find and retrieve data quickly using unique keys. This makes them ideal for tasks that require fast lookups and data association.\n",
        "\n",
        "12. Describe a scenario where using a tuple would be preferable over a list?\n",
        "\n",
        "Ans.\n",
        "Using a tuple is preferable when you need to store a collection of items that should not change. For example, storing coordinates (latitude, longitude) where the values must remain constant ensures data integrity and avoids accidental modifications.\n",
        "\n",
        "13.  How do sets handle duplicate values in Python?\n",
        "\n",
        "Ans.\n",
        "In Python, sets automatically handle duplicate values by only storing unique elements. When we add an element to a set that already exists in it, the set ignores the duplicate and retains a single instance of the element.\n",
        "\n",
        "14. How does the “in” keyword work differently for lists and dictionaries?\n",
        "\n",
        "Ans.\n",
        "In Python, the `in` keyword checks for the presence of an element in a list or a key in a dictionary. For lists, it searches for elements; for dictionaries, it checks for keys only.\n",
        "\n",
        "15. Can you modify the elements of a tuple? Explain why or why not?\n",
        "\n",
        "Ans.\n",
        "No, you cannot modify the elements of a tuple because tuples are immutable in Python to ensure the data intigrity.\n",
        "\n",
        "16. What is a nested dictionary, and give an example of its use case?\n",
        "\n",
        "Ans.\n",
        "A nested dictionary is a dictionary within another dictionary. It is useful for storing complex data structures.\n",
        "\n",
        "Storing student grades:\n",
        "students = {\n",
        "    \"Sambit\": {\"Math\": 90, \"Science\": 85},\n",
        "    \"Mangesh\": {\"Math\": 78, \"Science\": 82}\n",
        "}\n",
        "\n",
        "17. Describe the time complexity of accessing elements in a dictionary?\n",
        "\n",
        "Ans.\n",
        "Accessing elements in a dictionary typically has an average time complexity of O(1), meaning it is very fast and constant time. This efficiency comes from the use of a hash table to quickly locate keys.\n",
        "\n",
        "18. In what situations are lists preferred over dictionaries?\n",
        "\n",
        "Ans.\n",
        "Lists are preferred over dictionaries when the order of elements matters, when we need to store duplicate items, or when we need to perform operations like slicing, appending, or iterating through a sequence.\n",
        "\n",
        "\n",
        "\n",
        "19. Why are dictionaries considered unordered, and how does that affect data retrieval ?\n",
        "\n",
        "Ans.\n",
        "Dictionaries are considered unordered because they store key-value pairs without any specific order. This means the order of items can change. However, data retrieval is efficient and fast (O(1) time complexity) since it relies on hash functions, not the order of elements.\n",
        "\n",
        "20. Explain the difference between a list and a dictionary in terms of data retrieval?\n",
        "\n",
        "Ans.\n",
        "Lists retrieve elements by index, requiring their position. Searching is O(n) unless the index is known (O(1)). Dictionaries use keys for quick lookups, offering O(1) access time due to hashing. Lists are ideal for ordered collections; dictionaries excel in fast key-based retrieval.\n",
        "\n",
        "\n",
        "\n",
        "\n",
        "\n",
        "\n",
        "\n",
        "\n",
        "\n",
        "\n",
        "\n",
        "\n"
      ],
      "metadata": {
        "id": "X4MgZtZENJCi"
      }
    },
    {
      "cell_type": "code",
      "execution_count": null,
      "metadata": {
        "id": "7mjAuYZE_srr"
      },
      "outputs": [],
      "source": [
        "# PRACTICAL QUESTION\n",
        "\n"
      ]
    },
    {
      "cell_type": "code",
      "source": [
        "# 1. Write a code to create a string with your name and print it.\n",
        "s=\"MD Dilnawaz Rafi\"\n",
        "print(s)"
      ],
      "metadata": {
        "colab": {
          "base_uri": "https://localhost:8080/"
        },
        "id": "Q-fwXackKvee",
        "outputId": "78d08265-75be-40de-ba06-069f70196796"
      },
      "execution_count": null,
      "outputs": [
        {
          "output_type": "stream",
          "name": "stdout",
          "text": [
            "MD Dilnawaz Rafi\n"
          ]
        }
      ]
    },
    {
      "cell_type": "code",
      "source": [
        "# 2. Write a code to find the length of the string \"Hello World\".\n",
        "s=\"Hello World\"\n",
        "str_length=len(s)\n",
        "print(str_length)\n"
      ],
      "metadata": {
        "colab": {
          "base_uri": "https://localhost:8080/"
        },
        "id": "r-A6LO7YK2qr",
        "outputId": "f09255cd-593d-47b4-cba3-3e332dfdd801"
      },
      "execution_count": null,
      "outputs": [
        {
          "output_type": "stream",
          "name": "stdout",
          "text": [
            "11\n"
          ]
        }
      ]
    },
    {
      "cell_type": "code",
      "source": [
        "# 3. Write a code to slice the first 3 characters from the string \"Python Programming\".\n",
        "s=\"Python Programming\"\n",
        "sliced_string=s[0:3]\n",
        "print(sliced_string)\n"
      ],
      "metadata": {
        "colab": {
          "base_uri": "https://localhost:8080/"
        },
        "id": "5p8XsCYULetG",
        "outputId": "08552b04-2e7d-4626-e427-1fa4cd1f6fb9"
      },
      "execution_count": null,
      "outputs": [
        {
          "output_type": "stream",
          "name": "stdout",
          "text": [
            "Pyt\n"
          ]
        }
      ]
    },
    {
      "cell_type": "code",
      "source": [
        "# 4. Write a code to convert the string \"hello\" to uppercase.\n",
        "str=\"hello\"\n",
        "upper_str=str.upper()\n",
        "print(upper_str)"
      ],
      "metadata": {
        "colab": {
          "base_uri": "https://localhost:8080/"
        },
        "id": "Mkieyk-AL7wn",
        "outputId": "1c249bb7-4f92-4676-c965-5d7dded99e9e"
      },
      "execution_count": null,
      "outputs": [
        {
          "output_type": "stream",
          "name": "stdout",
          "text": [
            "HELLO\n"
          ]
        }
      ]
    },
    {
      "cell_type": "code",
      "source": [
        "# 5. Write a code to replace the word \"apple\" with \"orange\" in the string \"I like apple\".\n",
        "str=\"I like apple\"\n",
        "new_str=str.replace(\"apple\",\"orange\")\n",
        "print(new_str)\n"
      ],
      "metadata": {
        "colab": {
          "base_uri": "https://localhost:8080/"
        },
        "id": "mU6hArD0MUr5",
        "outputId": "74c2b68d-4add-4cf2-951f-c31f9f4a5373"
      },
      "execution_count": null,
      "outputs": [
        {
          "output_type": "stream",
          "name": "stdout",
          "text": [
            "I like orange\n"
          ]
        }
      ]
    },
    {
      "cell_type": "code",
      "source": [
        "# 6.  Write a code to create a list with numbers 1 to 5 and print it.\n",
        "lis=[1,2,3,4,5]\n",
        "print(lis)\n"
      ],
      "metadata": {
        "colab": {
          "base_uri": "https://localhost:8080/"
        },
        "id": "I6LEybE9MsVp",
        "outputId": "16163670-b819-4214-e190-2cddaa1fde79"
      },
      "execution_count": null,
      "outputs": [
        {
          "output_type": "stream",
          "name": "stdout",
          "text": [
            "[1, 2, 3, 4, 5]\n"
          ]
        }
      ]
    },
    {
      "cell_type": "code",
      "source": [
        "# 7. Write a code to append the number 10 to the list [1, 2, 3, 4].\n",
        "list=[1,2,3,4]\n",
        "list.append(10)\n",
        "print(list)\n",
        "\n"
      ],
      "metadata": {
        "colab": {
          "base_uri": "https://localhost:8080/"
        },
        "id": "vtrEqSj7NAls",
        "outputId": "4cc9874e-75a2-4636-bbb2-ab17c90f3292"
      },
      "execution_count": null,
      "outputs": [
        {
          "output_type": "stream",
          "name": "stdout",
          "text": [
            "[1, 2, 3, 4, 10]\n"
          ]
        }
      ]
    },
    {
      "cell_type": "code",
      "source": [
        "# 8. Write a code to remove the number 3 from the list [1, 2, 3, 4, 5].\n",
        "li=[1,2,3,4,5]\n",
        "li.remove(3)\n",
        "print(li)\n"
      ],
      "metadata": {
        "colab": {
          "base_uri": "https://localhost:8080/"
        },
        "id": "pLHG3zB7NOV3",
        "outputId": "69d828d5-09a4-4e67-c1d5-f04126db33b7"
      },
      "execution_count": null,
      "outputs": [
        {
          "output_type": "stream",
          "name": "stdout",
          "text": [
            "[1, 2, 4, 5]\n"
          ]
        }
      ]
    },
    {
      "cell_type": "code",
      "source": [
        "# 9. Write a code to access the second element in the list ['a', 'b', 'c', 'd'].\n",
        "list=['a','b','c','d']\n",
        "second_element=list[1]\n",
        "print(second_element)\n"
      ],
      "metadata": {
        "colab": {
          "base_uri": "https://localhost:8080/"
        },
        "id": "2GwOarBMNqT1",
        "outputId": "dba86bcd-5443-421c-8273-60fad7579e49"
      },
      "execution_count": null,
      "outputs": [
        {
          "output_type": "stream",
          "name": "stdout",
          "text": [
            "b\n"
          ]
        }
      ]
    },
    {
      "cell_type": "code",
      "source": [
        "# 10. Write a code to reverse the list [10, 20, 30, 40, 50].\n",
        "list=[10,20,30,40,50]\n",
        "reversed_list=list[::-1]\n",
        "print(reversed_list)"
      ],
      "metadata": {
        "colab": {
          "base_uri": "https://localhost:8080/"
        },
        "id": "i6fS-FfwOArG",
        "outputId": "fc56a9ef-f63d-443f-d907-7ca5572701ac"
      },
      "execution_count": null,
      "outputs": [
        {
          "output_type": "stream",
          "name": "stdout",
          "text": [
            "[50, 40, 30, 20, 10]\n"
          ]
        }
      ]
    },
    {
      "cell_type": "code",
      "source": [],
      "metadata": {
        "id": "VBHVJZ_WPOkj"
      },
      "execution_count": null,
      "outputs": []
    },
    {
      "cell_type": "code",
      "source": [
        "# 11. Write a code to create a tuple with the elements 10, 20, 30 and print it.\n",
        "tup=(10,20,30)\n",
        "print(tup)"
      ],
      "metadata": {
        "colab": {
          "base_uri": "https://localhost:8080/"
        },
        "id": "_AvKeo48OpT8",
        "outputId": "ef73bfba-9f08-4f97-b26a-54ae8bf7bee7"
      },
      "execution_count": null,
      "outputs": [
        {
          "output_type": "stream",
          "name": "stdout",
          "text": [
            "(10, 20, 30)\n"
          ]
        }
      ]
    },
    {
      "cell_type": "code",
      "source": [
        "# 12. Write a code to access the first element of the tuple ('apple', 'banana', 'cherry').\n",
        "tuple=('apple','banana','cherry')\n",
        "first_element=tuple[0]\n",
        "print(first_element)"
      ],
      "metadata": {
        "colab": {
          "base_uri": "https://localhost:8080/"
        },
        "id": "zuKa1mHbPNtp",
        "outputId": "d1103414-7028-4e05-dbc7-292c3b9034aa"
      },
      "execution_count": null,
      "outputs": [
        {
          "output_type": "stream",
          "name": "stdout",
          "text": [
            "apple\n"
          ]
        }
      ]
    },
    {
      "cell_type": "code",
      "source": [
        "# 13. Write a code to count how many times the number 2 appears in the tuple (1, 2, 3, 2, 4, 2).\n",
        "tup=(1,2,3,2,4,2)\n",
        "print(tup.count(2))"
      ],
      "metadata": {
        "colab": {
          "base_uri": "https://localhost:8080/"
        },
        "id": "Xa00I45APkVP",
        "outputId": "02da0945-a4c3-4d71-af38-16fab48cc0bf"
      },
      "execution_count": null,
      "outputs": [
        {
          "output_type": "stream",
          "name": "stdout",
          "text": [
            "3\n"
          ]
        }
      ]
    },
    {
      "cell_type": "code",
      "source": [
        "# 14. Write a code to find the index of the element \"cat\" in the tuple ('dog', 'cat', 'rabbit').\n",
        "tuple=('dog','cat','rabbit')\n",
        "print(tuple.index('cat'))"
      ],
      "metadata": {
        "colab": {
          "base_uri": "https://localhost:8080/"
        },
        "id": "_IvS-4DaP3xS",
        "outputId": "fa264dbb-c993-459e-d8ec-b7feb278e84b"
      },
      "execution_count": null,
      "outputs": [
        {
          "output_type": "stream",
          "name": "stdout",
          "text": [
            "1\n"
          ]
        }
      ]
    },
    {
      "cell_type": "code",
      "source": [
        "# 15. Write a code to check if the element \"banana\" is in the tuple ('apple', 'orange', 'banana').\n",
        "tuple=('apple','orange','banana')\n",
        "if 'banana' in tuple:\n",
        "    print(\"yes\")\n",
        "else:\n",
        "    print(\"no\")"
      ],
      "metadata": {
        "colab": {
          "base_uri": "https://localhost:8080/"
        },
        "id": "mX8BKmBhQJye",
        "outputId": "d163f750-b794-410e-94ac-18d0990e1669"
      },
      "execution_count": null,
      "outputs": [
        {
          "output_type": "stream",
          "name": "stdout",
          "text": [
            "yes\n"
          ]
        }
      ]
    },
    {
      "cell_type": "code",
      "source": [
        "# 16. Write a code to create a set with the elements 1, 2, 3, 4, 5 and print it.\n",
        "set={1,2,3,4,5}\n",
        "print(set)"
      ],
      "metadata": {
        "colab": {
          "base_uri": "https://localhost:8080/"
        },
        "id": "lnUlYcLeQTb1",
        "outputId": "e73e259e-39de-48d3-d549-9ce2e595e0ca"
      },
      "execution_count": null,
      "outputs": [
        {
          "output_type": "stream",
          "name": "stdout",
          "text": [
            "{1, 2, 3, 4, 5}\n"
          ]
        }
      ]
    },
    {
      "cell_type": "code",
      "source": [
        "# 17. Write a code to add the element 6 to the set {1, 2, 3, 4}.\n",
        "set={1,2,3,4}\n",
        "set.add(6)\n",
        "print(set)"
      ],
      "metadata": {
        "colab": {
          "base_uri": "https://localhost:8080/"
        },
        "id": "S9ZRkjEmQr_d",
        "outputId": "65e234ee-52c0-4e04-c86e-aab5cd337d1c"
      },
      "execution_count": null,
      "outputs": [
        {
          "output_type": "stream",
          "name": "stdout",
          "text": [
            "{1, 2, 3, 4, 6}\n"
          ]
        }
      ]
    },
    {
      "cell_type": "code",
      "source": [
        "# 18. Write a code to create a tuple with the elements 10, 20, 30 and print it.\n",
        "tup=(10,20,30)\n",
        "print(tup)"
      ],
      "metadata": {
        "colab": {
          "base_uri": "https://localhost:8080/"
        },
        "id": "m8s88ww1Q9kd",
        "outputId": "71a23573-dbfe-4a1f-dd6b-945c0c74c4e6"
      },
      "execution_count": null,
      "outputs": [
        {
          "output_type": "stream",
          "name": "stdout",
          "text": [
            "(10, 20, 30)\n"
          ]
        }
      ]
    },
    {
      "cell_type": "code",
      "source": [
        "# 19. Write a code to access the first element of the tuple ('apple', 'banana', 'cherry').\n",
        "tuple=('apple','banana','cherry')\n",
        "first_element=tuple[0]\n",
        "print(first_element)"
      ],
      "metadata": {
        "colab": {
          "base_uri": "https://localhost:8080/"
        },
        "id": "r5XyS_daRMNl",
        "outputId": "27471b76-33d4-4951-d903-bdee4c70f71c"
      },
      "execution_count": null,
      "outputs": [
        {
          "output_type": "stream",
          "name": "stdout",
          "text": [
            "apple\n"
          ]
        }
      ]
    },
    {
      "cell_type": "code",
      "source": [
        "# 20. Write a code to count how many times the number 2 appears in the tuple (1, 2, 3, 2, 4, 2).\n",
        "tup=(1,2,3,2,4,2)\n",
        "print(tup.count(2))"
      ],
      "metadata": {
        "colab": {
          "base_uri": "https://localhost:8080/"
        },
        "id": "22CYb_8hRb1i",
        "outputId": "1c5c485b-edac-4356-84db-05192b9ba921"
      },
      "execution_count": null,
      "outputs": [
        {
          "output_type": "stream",
          "name": "stdout",
          "text": [
            "3\n"
          ]
        }
      ]
    },
    {
      "cell_type": "code",
      "source": [
        "# 21. Write a code to find the index of the element \"cat\" in the tuple ('dog', 'cat', 'rabbit').\n",
        "tuple=('dog','cat','rabbit')\n",
        "print(tuple.index('cat'))"
      ],
      "metadata": {
        "colab": {
          "base_uri": "https://localhost:8080/"
        },
        "id": "uBSmFDL6SDxJ",
        "outputId": "87243d22-ec86-45aa-9c39-1a1aad22a0be"
      },
      "execution_count": null,
      "outputs": [
        {
          "output_type": "stream",
          "name": "stdout",
          "text": [
            "1\n"
          ]
        }
      ]
    },
    {
      "cell_type": "code",
      "source": [
        "# 22. Write a code to check if the element \"banana\" is in the tuple ('apple', 'orange', 'banana').\n",
        "tuple=('apple','orange','banana')\n",
        "if 'banana' in tuple:\n",
        "    print(\"yes\")\n",
        "else:\n",
        "    print(\"no\")"
      ],
      "metadata": {
        "colab": {
          "base_uri": "https://localhost:8080/"
        },
        "id": "oE6ey1p3SLP4",
        "outputId": "359c791b-65e8-418f-898b-44e06094fce5"
      },
      "execution_count": null,
      "outputs": [
        {
          "output_type": "stream",
          "name": "stdout",
          "text": [
            "yes\n"
          ]
        }
      ]
    },
    {
      "cell_type": "code",
      "source": [
        "# 23. Write a code to create a set with the elements 1, 2, 3, 4, 5 and print it.\n",
        "set={1,2,3,4,5}\n",
        "print(set)"
      ],
      "metadata": {
        "colab": {
          "base_uri": "https://localhost:8080/"
        },
        "id": "PFKdy_jaSSCm",
        "outputId": "f19cac30-e168-41b7-f418-2dd4cf205c53"
      },
      "execution_count": null,
      "outputs": [
        {
          "output_type": "stream",
          "name": "stdout",
          "text": [
            "{1, 2, 3, 4, 5}\n"
          ]
        }
      ]
    },
    {
      "cell_type": "code",
      "source": [
        "# 24. Write a code to add the element 6 to the set {1, 2, 3, 4}.\n",
        "set={1,2,3,4}\n",
        "set.add(6)\n",
        "print(set)"
      ],
      "metadata": {
        "colab": {
          "base_uri": "https://localhost:8080/"
        },
        "id": "CCdrcIdGSW_m",
        "outputId": "b00d8214-36c7-4bbf-9f39-af91a0907b58"
      },
      "execution_count": null,
      "outputs": [
        {
          "output_type": "stream",
          "name": "stdout",
          "text": [
            "{1, 2, 3, 4, 6}\n"
          ]
        }
      ]
    },
    {
      "cell_type": "code",
      "source": [],
      "metadata": {
        "id": "hNx75_vpSc9B"
      },
      "execution_count": null,
      "outputs": []
    }
  ]
}