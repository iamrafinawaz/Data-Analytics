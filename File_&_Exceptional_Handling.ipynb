{
  "nbformat": 4,
  "nbformat_minor": 0,
  "metadata": {
    "colab": {
      "provenance": [],
      "authorship_tag": "ABX9TyNECxL6CvwirNwJ8vnuxvKn",
      "include_colab_link": true
    },
    "kernelspec": {
      "name": "python3",
      "display_name": "Python 3"
    },
    "language_info": {
      "name": "python"
    }
  },
  "cells": [
    {
      "cell_type": "markdown",
      "metadata": {
        "id": "view-in-github",
        "colab_type": "text"
      },
      "source": [
        "<a href=\"https://colab.research.google.com/github/iamrafinawaz/Data-Analytics/blob/main/File_%26_Exceptional_Handling.ipynb\" target=\"_parent\"><img src=\"https://colab.research.google.com/assets/colab-badge.svg\" alt=\"Open In Colab\"/></a>"
      ]
    },
    {
      "cell_type": "markdown",
      "source": [
        "1. What is the difference between interpreted and compiled languages?\n",
        "\n",
        "Ans.\n",
        "Compiled languages translate code into machine code before execution, resulting in faster performance, while interpreted languages translate and execute code line-by-line, making them slower but allowing for real-time changes.\n",
        "\n",
        "2. What is exception handling in Python?\n",
        "\n",
        "Ans.\n",
        "Exception handling in Python is a way to handle errors gracefully during runtime. It uses try, except, else, and finally blocks to catch and manage exceptions, preventing the program from crashing and allowing it to continue executing or perform cleanup.\n",
        "\n",
        "3. What is the purpose of the finally block in exception handling?\n",
        "\n",
        "Ans.\n",
        "The finally block in Python's exception handling ensures that certain code executes regardless of whether an exception occurred or not. It's used for cleanup actions like closing files, releasing resources, or resetting states.\n",
        "\n",
        "4. What is logging in Python?\n",
        "\n",
        "Ans.\n",
        "Logging in Python is a way to track events that happen when software runs. It's useful for debugging and monitoring applications.\n",
        "\n",
        "5. What is the significance of the __del__ method in Python?\n",
        "\n",
        "Ans.\n",
        "The __del__ method in Python is a special method, also known as a destructor. It is called when an object is about to be destroyed, allowing us to define cleanup actions, such as releasing resources or closing files.\n",
        "\n",
        "6. What is the difference between import and from ... import in Python?\n",
        "\n",
        "Ans.\n",
        "import brings in an entire module, requiring us to use the module name to access its content while from ... import allows us to import specific attributes from a module, enabling direct use without the module name\n",
        "\n",
        "7. How can you handle multiple exceptions in Python?\n",
        "\n",
        "Ans.\n",
        "In Python, we can handle multiple exceptions by specifying multiple except blocks, or by using a single except block with a tuple of exception types.\n",
        "\n",
        "8.  What is the purpose of the with statement when handling files in Python?\n",
        "\n",
        "Ans.\n",
        "The with statement in Python ensures that resources like files are properly managed. When used with file handling, it automatically opens and closes the file, even if an error occurs, simplifying resource cleanup and making the code more readable and less error-prone.\n",
        "\n",
        "9. What is the difference between multithreading and multiprocessing ?\n",
        "\n",
        "Ans.\n",
        "Multithreading uses multiple threads within a single process sharing memory, while multiprocessing uses multiple processes with separate memory spaces. Multithreading is suitable for I/O-bound tasks, while multiprocessing is better for CPU-bound tasks to leverage multiple cores.\n",
        "\n",
        "10. What are the advantages of using logging in a program?\n",
        "\n",
        "Ans.\n",
        "Logging in a program helps with debugging, monitoring, and auditing by tracking errors and events, provides maintenance insights, and offers flexibility with different logging levels, ultimately enhancing overall application management.\n",
        "\n",
        "11. What is memory management in Python?\n",
        "\n",
        "Ans.\n",
        "Memory management in Python involves the allocation and deallocation of memory to ensure efficient use of resources. Python uses automatic memory management, which includes garbage collection to clean up unused objects, and reference counting to keep track of the number of references to an object.\n",
        "\n",
        "12. What are the basic steps involved in exception handling in Python ?\n",
        "\n",
        "Ans.\n",
        "The basic steps involved in exception handling in Python include:\n",
        "\n",
        "Wrap the code: Use a try block to wrap the code that might raise an exception.\n",
        "\n",
        "Catch exceptions: Follow the try block with one or more except blocks to catch and handle specific exceptions.\n",
        "\n",
        "Optional else block: Use an else block to execute code if no exception is raised.\n",
        "\n",
        "Cleanup actions: Include a finally block to execute code regardless of whether an exception occurred, often for cleanup actions.\n",
        "\n",
        "13.  Why is memory management important in Python?\n",
        "\n",
        "Ans.\n",
        "Memory management is crucial in Python to ensure the efficient allocation and deallocation of memory. It helps prevent memory leaks and optimizes the performance of applications by automatically handling the lifecycle of objects.\n",
        "\n",
        "14.  What is the role of try and except in exception handling?\n",
        "\n",
        "Ans.\n",
        "In Python, try and except blocks are used for exception handling to manage errors gracefully. The try block contains code that might raise an exception, while the except block catches and handles specific exceptions if they occur. This prevents the program from crashing and allows for a controlled response to errors.\n",
        "\n",
        "15.  How does Python's garbage collection system work?\n",
        "\n",
        "Ans.\n",
        "Python's garbage collection system manages memory using reference counting to track the number of references to objects, deallocating them when the count drops to zero, and cyclic garbage collection to detect and collect cyclic references that reference counting can't handle, ensuring efficient memory usage and preventing leaks.\n",
        "\n",
        "16.  What is the purpose of the else block in exception handling?\n",
        "\n",
        "Ans.\n",
        "In Python's exception handling, the else block is used to execute code that should run only if no exceptions were raised in the try block. It provides a cleaner and more readable way to separate the main logic from error handling.\n",
        "\n",
        "17.  What are the common logging levels in Python?\n",
        "\n",
        "Ans.\n",
        "Python's logging module provides several common logging levels, each indicating the severity or importance of the logged message:\n",
        "\n",
        "DEBUG: Detailed information, typically of interest only when diagnosing problems.\n",
        "\n",
        "INFO: Confirmation that things are working as expected.\n",
        "\n",
        "WARNING: An indication that something unexpected happened or might cause problems in the future.\n",
        "\n",
        "ERROR: A more serious problem, indicating that the program encountered an issue and couldn't perform some function.\n",
        "\n",
        "CRITICAL: A very serious error, indicating that the program might be unable to continue running.\n",
        "\n",
        "18.  What is the difference between os.fork() and multiprocessing in Python?\n",
        "\n",
        "Ans.\n",
        "The `os.fork()` function in Python creates a new child process by duplicating the current process, suitable for Unix-like systems, while the `multiprocessing` module provides a higher-level interface for creating and managing multiple processes, offering portability across different operating systems and better handling of inter-process communication and task management.\n",
        "\n",
        "19.  What is the importance of closing a file in Python?\n",
        "\n",
        "Ans.\n",
        "Closing a file in Python is crucial because it releases the resources associated with the file, ensuring data is properly written to disk and preventing memory leaks. Failure to close a file can lead to resource exhaustion, potential data corruption, and unpredictable program behavior, making it an essential practice for maintaining efficient and reliable code.\n",
        "\n",
        "20. What is the difference between file.read() and file.readline() in Python?\n",
        "\n",
        "Ans.\n",
        "In Python, `file.read()` reads the entire contents of a file at once and returns it as a single string, while `file.readline()` reads one line at a time from the file and returns it as a string, including the newline character. Use `file.read()` when we need to process the whole file content at once and `file.readline()` for line-by-line processing, which is more memory efficient for large files.\n",
        "\n",
        "21.  What is the logging module in Python used for?\n",
        "\n",
        "Ans.\n",
        "The `logging` module in Python is used for tracking events that happen when software runs. It provides a flexible framework for emitting log messages from Python programs. we can capture different levels of information (like `DEBUG`, `INFO`, `WARNING`, `ERROR`, and `CRITICAL`), and output these logs to various destinations, such as the console, files, or remote servers, making it easier to diagnose problems, monitor application performance, and keep an audit trail.\n",
        "\n",
        "22.  What is the os module in Python used for in file handling?\n",
        "\n",
        "Ans.\n",
        "The os module in Python is used for interacting with the operating system. In file handling, it provides functions to manipulate files and directories, such as creating, removing, and renaming files or directories, as well as checking their properties.\n",
        "\n",
        "23. What are the challenges associated with memory management in Python?\n",
        "\n",
        "Ans.\n",
        "Challenges in Python's memory management include handling cyclic references that cause memory leaks, fragmentation from allocating memory over time, and performance overhead from reference counting and garbage collection. Efficient coding practices are essential to optimize memory usage and application performance.\n",
        "\n",
        "24.  How do you raise an exception manually in Python?\n",
        "\n",
        "Ans.\n",
        "In Python, we can raise an exception manually using the raise keyword followed by the exception type we want to raise. We can also provide an optional message for more context.\n",
        "\n",
        "25.  Why is it important to use multithreading in certain applications?\n",
        "\n",
        "Ans.\n",
        "Multithreading improves performance and responsiveness by allowing concurrent execution of tasks. It efficiently handles I/O-bound tasks, utilizes multiple CPU cores, and divides complex workflows into smaller threads, enhancing real-time systems, servers, and parallel processing applications.\n",
        "\n",
        "\n",
        "\n",
        "\n",
        "\n",
        "\n",
        "\n",
        "\n",
        "\n",
        "\n",
        "\n",
        "\n",
        "\n",
        "\n",
        "\n",
        "\n",
        "\n",
        "\n",
        "\n"
      ],
      "metadata": {
        "id": "TclCMQ9X3vyr"
      }
    },
    {
      "cell_type": "code",
      "execution_count": 2,
      "metadata": {
        "id": "6uN-kckH3eY0"
      },
      "outputs": [],
      "source": [
        "# 1. How can you open a file for writing in Python and write a string to it\n",
        "file = open('my_file.txt', 'w')\n",
        "file.write('Hello, world!\\n')\n",
        "file.close()\n"
      ]
    },
    {
      "cell_type": "code",
      "source": [
        "# 2. Write a Python program to read the contents of a file and print each line.\n",
        "file = open('my_file.txt', 'r')\n",
        "for line in file:\n",
        "    print(line)\n",
        "file.close()\n"
      ],
      "metadata": {
        "colab": {
          "base_uri": "https://localhost:8080/"
        },
        "id": "K4Chxn1VBjzL",
        "outputId": "3bbfed15-c528-4ecb-e3af-ff24c8bef2f6"
      },
      "execution_count": 3,
      "outputs": [
        {
          "output_type": "stream",
          "name": "stdout",
          "text": [
            "Hello, world!\n",
            "\n"
          ]
        }
      ]
    },
    {
      "cell_type": "code",
      "source": [
        "# 3. How would you handle a case where the file doesn't exist while trying to open it for reading?\n",
        "try:\n",
        "    file = open('nonexistent_file.txt', 'r')\n",
        "except FileNotFoundError:\n",
        "    print(\"The file doesn't exist.\")\n"
      ],
      "metadata": {
        "colab": {
          "base_uri": "https://localhost:8080/"
        },
        "id": "iixcaAJEBp3w",
        "outputId": "de950e94-68cb-4b6b-e79e-cc0e2d2f68d0"
      },
      "execution_count": 4,
      "outputs": [
        {
          "output_type": "stream",
          "name": "stdout",
          "text": [
            "The file doesn't exist.\n"
          ]
        }
      ]
    },
    {
      "cell_type": "code",
      "source": [
        "# 4. Write a Python script that reads from one file and writes its content to another file.\n",
        "with open('input.txt', 'r') as infile:\n",
        "    content = infile.read()\n",
        "with open('output.txt', 'w') as outfile:\n",
        "    outfile.write(content)\n"
      ],
      "metadata": {
        "colab": {
          "base_uri": "https://localhost:8080/",
          "height": 211
        },
        "id": "LEPSF4q2B0BS",
        "outputId": "eed40276-cb95-4918-eed1-a77e1dc39091"
      },
      "execution_count": 5,
      "outputs": [
        {
          "output_type": "error",
          "ename": "FileNotFoundError",
          "evalue": "[Errno 2] No such file or directory: 'input.txt'",
          "traceback": [
            "\u001b[0;31m---------------------------------------------------------------------------\u001b[0m",
            "\u001b[0;31mFileNotFoundError\u001b[0m                         Traceback (most recent call last)",
            "\u001b[0;32m<ipython-input-5-7bc4175956e9>\u001b[0m in \u001b[0;36m<cell line: 2>\u001b[0;34m()\u001b[0m\n\u001b[1;32m      1\u001b[0m \u001b[0;31m# 4. Write a Python script that reads from one file and writes its content to another file.\u001b[0m\u001b[0;34m\u001b[0m\u001b[0;34m\u001b[0m\u001b[0m\n\u001b[0;32m----> 2\u001b[0;31m \u001b[0;32mwith\u001b[0m \u001b[0mopen\u001b[0m\u001b[0;34m(\u001b[0m\u001b[0;34m'input.txt'\u001b[0m\u001b[0;34m,\u001b[0m \u001b[0;34m'r'\u001b[0m\u001b[0;34m)\u001b[0m \u001b[0;32mas\u001b[0m \u001b[0minfile\u001b[0m\u001b[0;34m:\u001b[0m\u001b[0;34m\u001b[0m\u001b[0;34m\u001b[0m\u001b[0m\n\u001b[0m\u001b[1;32m      3\u001b[0m     \u001b[0mcontent\u001b[0m \u001b[0;34m=\u001b[0m \u001b[0minfile\u001b[0m\u001b[0;34m.\u001b[0m\u001b[0mread\u001b[0m\u001b[0;34m(\u001b[0m\u001b[0;34m)\u001b[0m\u001b[0;34m\u001b[0m\u001b[0;34m\u001b[0m\u001b[0m\n\u001b[1;32m      4\u001b[0m \u001b[0;32mwith\u001b[0m \u001b[0mopen\u001b[0m\u001b[0;34m(\u001b[0m\u001b[0;34m'output.txt'\u001b[0m\u001b[0;34m,\u001b[0m \u001b[0;34m'w'\u001b[0m\u001b[0;34m)\u001b[0m \u001b[0;32mas\u001b[0m \u001b[0moutfile\u001b[0m\u001b[0;34m:\u001b[0m\u001b[0;34m\u001b[0m\u001b[0;34m\u001b[0m\u001b[0m\n\u001b[1;32m      5\u001b[0m     \u001b[0moutfile\u001b[0m\u001b[0;34m.\u001b[0m\u001b[0mwrite\u001b[0m\u001b[0;34m(\u001b[0m\u001b[0mcontent\u001b[0m\u001b[0;34m)\u001b[0m\u001b[0;34m\u001b[0m\u001b[0;34m\u001b[0m\u001b[0m\n",
            "\u001b[0;31mFileNotFoundError\u001b[0m: [Errno 2] No such file or directory: 'input.txt'"
          ]
        }
      ]
    },
    {
      "cell_type": "code",
      "source": [
        "# 5.  How would you catch and handle division by zero error in Python.\n",
        "try:\n",
        "    result = 10 / 0\n",
        "except ZeroDivisionError:\n",
        "    print(\"Error: Division by zero\")\n",
        "\n",
        "\n"
      ],
      "metadata": {
        "colab": {
          "base_uri": "https://localhost:8080/"
        },
        "id": "MrWWCTvjCDPr",
        "outputId": "8f65a553-583c-4cb7-e647-8267950bdcd1"
      },
      "execution_count": 6,
      "outputs": [
        {
          "output_type": "stream",
          "name": "stdout",
          "text": [
            "Error: Division by zero\n"
          ]
        }
      ]
    },
    {
      "cell_type": "code",
      "source": [
        "# 6. Write a Python program that logs an error message to a log file when a division by zero exception occurs.\n",
        "import logging\n",
        "\n",
        "logging.basicConfig(filename='error.log', level=logging.ERROR)\n",
        "\n",
        "try:\n",
        "    result = 10 / 0\n",
        "except ZeroDivisionError:\n",
        "    logging.error(\"Division by zero error occurred\")\n"
      ],
      "metadata": {
        "colab": {
          "base_uri": "https://localhost:8080/"
        },
        "id": "YwG-BaY_CZPY",
        "outputId": "9e1045e6-6330-420f-b94e-8fbea27ae168"
      },
      "execution_count": 7,
      "outputs": [
        {
          "output_type": "stream",
          "name": "stderr",
          "text": [
            "ERROR:root:Division by zero error occurred\n"
          ]
        }
      ]
    },
    {
      "cell_type": "code",
      "source": [
        "# 7. How do you log information at different levels (INFO, ERROR, WARNING) in Python using the logging module.\n",
        "import logging\n",
        "\n",
        "logging.basicConfig(level=logging.INFO)\n",
        "logging.info(\"This is an info message\")\n",
        "\n",
        "logging.basicConfig(level=logging.WARNING)\n",
        "logging.warning(\"This is a warning message\")\n",
        "\n",
        "logging.basicConfig(level=logging.ERROR)\n",
        "logging.error(\"This is an error message\")\n"
      ],
      "metadata": {
        "colab": {
          "base_uri": "https://localhost:8080/"
        },
        "id": "kL1q6DpACiaU",
        "outputId": "2692bea9-9bec-494c-a48e-9e32112ce28e"
      },
      "execution_count": 8,
      "outputs": [
        {
          "output_type": "stream",
          "name": "stderr",
          "text": [
            "WARNING:root:This is a warning message\n",
            "ERROR:root:This is an error message\n"
          ]
        }
      ]
    },
    {
      "cell_type": "code",
      "source": [
        "# 8. Write a program to handle a file opening error using exception handling.\n",
        "try:\n",
        "    file = open('nonexistent_file.txt', 'r')\n",
        "except FileNotFoundError:\n",
        "    print(\"Error: File not found\")\n"
      ],
      "metadata": {
        "colab": {
          "base_uri": "https://localhost:8080/"
        },
        "id": "d4yoalOeC4UH",
        "outputId": "d219b28f-e9cb-4783-a83e-85fd4b318ead"
      },
      "execution_count": 9,
      "outputs": [
        {
          "output_type": "stream",
          "name": "stdout",
          "text": [
            "Error: File not found\n"
          ]
        }
      ]
    },
    {
      "cell_type": "code",
      "source": [
        "# 9. How can you read a file line by line and store its content in a list in Python?\n",
        "file = open('my_file.txt', 'r')\n",
        "lines = file.readlines()\n",
        "file.close()\n",
        "print(lines)\n"
      ],
      "metadata": {
        "colab": {
          "base_uri": "https://localhost:8080/"
        },
        "id": "YxM9x4HODBpc",
        "outputId": "276205ca-7efe-4f7b-e598-4a6dfa5a8b0f"
      },
      "execution_count": 10,
      "outputs": [
        {
          "output_type": "stream",
          "name": "stdout",
          "text": [
            "['Hello, world!\\n']\n"
          ]
        }
      ]
    },
    {
      "cell_type": "code",
      "source": [
        "# 10.  How can you append data to an existing file in Python.\n",
        "file = open('my_file.txt', 'a')\n",
        "file.write('This is appended data.\\n')\n",
        "file.close()\n"
      ],
      "metadata": {
        "id": "Nov5BJ1vDMIT"
      },
      "execution_count": 11,
      "outputs": []
    },
    {
      "cell_type": "code",
      "source": [
        "# 11.  Write a Python program that uses a try-except block to handle an error when attempting to access a\n",
        "# dictionary key that doesn't exist.\n",
        "my_dict = {'a': 1, 'b': 2, 'c': 3}\n",
        "try:\n",
        "    value = my_dict['d']\n",
        "except KeyError:\n",
        "    print(\"Error: Key not found in dictionary\")\n",
        "\n",
        "\n"
      ],
      "metadata": {
        "colab": {
          "base_uri": "https://localhost:8080/"
        },
        "id": "X_WIacTODX0P",
        "outputId": "7073e1d6-6f96-45c6-de25-b861a5b89382"
      },
      "execution_count": 12,
      "outputs": [
        {
          "output_type": "stream",
          "name": "stdout",
          "text": [
            "Error: Key not found in dictionary\n"
          ]
        }
      ]
    },
    {
      "cell_type": "code",
      "source": [
        "# 12.  Write a program that demonstrates using multiple except blocks to handle different types of exceptions.\n",
        "try:\n",
        "    result = 10 / 0\n",
        "except ZeroDivisionError:\n",
        "    print(\"Error: Division by zero\")\n",
        "except ValueError:\n",
        "    print(\"Error: Invalid value\")\n"
      ],
      "metadata": {
        "colab": {
          "base_uri": "https://localhost:8080/"
        },
        "id": "N59mGHVeDpO6",
        "outputId": "8f4f774a-4098-45ca-de1f-43eac55d60af"
      },
      "execution_count": 13,
      "outputs": [
        {
          "output_type": "stream",
          "name": "stdout",
          "text": [
            "Error: Division by zero\n"
          ]
        }
      ]
    },
    {
      "cell_type": "code",
      "source": [
        "# 13.  How would you check if a file exists before attempting to read it in Python.\n",
        "import os\n",
        "\n",
        "if os.path.exists('my_file.txt'):\n",
        "    file = open('my_file.txt', 'r')\n",
        "    content = file.read()\n",
        "    file.close()\n",
        "    print(content)\n"
      ],
      "metadata": {
        "colab": {
          "base_uri": "https://localhost:8080/"
        },
        "id": "Jl-c-2X-D5Nj",
        "outputId": "60e8825e-90d5-4589-a808-ef54f911fc73"
      },
      "execution_count": 14,
      "outputs": [
        {
          "output_type": "stream",
          "name": "stdout",
          "text": [
            "Hello, world!\n",
            "This is appended data.\n",
            "\n"
          ]
        }
      ]
    },
    {
      "cell_type": "code",
      "source": [
        "# 14. Write a program that uses the logging module to log both informational and error messages.\n",
        "import logging\n",
        "\n",
        "logging.basicConfig(level=logging.INFO)\n",
        "logging.info(\"This is an info message\")\n",
        "\n",
        "logging.basicConfig(level=logging.ERROR)\n",
        "logging.error(\"This is an error message\")\n"
      ],
      "metadata": {
        "colab": {
          "base_uri": "https://localhost:8080/"
        },
        "id": "d5hjA-cYEEXS",
        "outputId": "a9f9ca5a-4f9b-46ee-a360-ea7bdb427e59"
      },
      "execution_count": 16,
      "outputs": [
        {
          "output_type": "stream",
          "name": "stderr",
          "text": [
            "ERROR:root:This is an error message\n"
          ]
        }
      ]
    },
    {
      "cell_type": "code",
      "source": [
        "# 15. Write a Python program that prints the content of a file and handles the case when the file is empty.\n",
        "try:\n",
        "    file = open('my_file.txt', 'r')\n",
        "    content = file.read()\n",
        "    file.close()\n",
        "    if content:\n",
        "        print(content)\n",
        "    else:\n",
        "        print(\"The file is empty.\")\n"
      ],
      "metadata": {
        "colab": {
          "base_uri": "https://localhost:8080/",
          "height": 106
        },
        "id": "Dip0U_33EKad",
        "outputId": "5b757a7b-58e3-47b4-88b7-dd3030094a3e"
      },
      "execution_count": 20,
      "outputs": [
        {
          "output_type": "error",
          "ename": "IndentationError",
          "evalue": "expected an indented block after 'if' statement on line 6 (<ipython-input-20-d98672aee67f>, line 9)",
          "traceback": [
            "\u001b[0;36m  File \u001b[0;32m\"<ipython-input-20-d98672aee67f>\"\u001b[0;36m, line \u001b[0;32m9\u001b[0m\n\u001b[0;31m    try:\u001b[0m\n\u001b[0m        ^\u001b[0m\n\u001b[0;31mIndentationError\u001b[0m\u001b[0;31m:\u001b[0m expected an indented block after 'if' statement on line 6\n"
          ]
        }
      ]
    },
    {
      "cell_type": "code",
      "source": [
        "# 16.  Demonstrate how to use memory profiling to check the memory usage of a small program.\n",
        "!pip install memory_profiler\n",
        "\n",
        "from memory_profiler import profile\n",
        "\n",
        "@profile\n",
        "def my_function():\n",
        "    a = [1] * (10**6)\n",
        "    b = [2] * (2 * 10**6)\n",
        "    del b\n",
        "    return a\n",
        "\n",
        "if __name__ == \"__main__\":\n",
        "    my_function()\n",
        "\n",
        "\n"
      ],
      "metadata": {
        "colab": {
          "base_uri": "https://localhost:8080/"
        },
        "id": "sjfjCtONES9P",
        "outputId": "bd5e091c-c12b-404b-d5f4-e67555a5e978"
      },
      "execution_count": 23,
      "outputs": [
        {
          "output_type": "stream",
          "name": "stdout",
          "text": [
            "Requirement already satisfied: memory_profiler in /usr/local/lib/python3.10/dist-packages (0.61.0)\n",
            "Requirement already satisfied: psutil in /usr/local/lib/python3.10/dist-packages (from memory_profiler) (5.9.5)\n",
            "ERROR: Could not find file <ipython-input-23-0bb490b6b9ca>\n",
            "NOTE: %mprun can only be used on functions defined in physical files, and not in the IPython environment.\n"
          ]
        }
      ]
    },
    {
      "cell_type": "code",
      "source": [
        "# 17.  Write a Python program to create and write a list of numbers to a file, one number per line.\n",
        "numbers = [1, 2, 3, 4, 5]\n",
        "with open('numbers.txt', 'w') as file:\n",
        "    for number in numbers:\n",
        "        file.write(str(number) + '\\n')\n",
        "\n",
        "\n"
      ],
      "metadata": {
        "id": "RfKuw-a9FHpQ"
      },
      "execution_count": 24,
      "outputs": []
    },
    {
      "cell_type": "code",
      "source": [
        "# 18.  How would you implement a basic logging setup that logs to a file with rotation after 1MB.\n",
        "\n",
        "\n"
      ],
      "metadata": {
        "id": "e3uGDaYHFeiu"
      },
      "execution_count": 25,
      "outputs": []
    },
    {
      "cell_type": "code",
      "source": [
        "# 19. Write a program that handles both IndexError and KeyError using a try-except block.\n",
        "try:\n",
        "    my_list = [1, 2, 3]\n",
        "    value = my_list[3]\n",
        "except IndexError:\n",
        "    print(\"Error: Index out of range\")\n",
        "except KeyError:\n",
        "    print(\"Error: Key not found in dictionary\")\n"
      ],
      "metadata": {
        "colab": {
          "base_uri": "https://localhost:8080/"
        },
        "id": "TUTwmx0TFohu",
        "outputId": "540948db-1e16-4085-8243-b8ac9112fbc9"
      },
      "execution_count": 26,
      "outputs": [
        {
          "output_type": "stream",
          "name": "stdout",
          "text": [
            "Error: Index out of range\n"
          ]
        }
      ]
    },
    {
      "cell_type": "code",
      "source": [
        "# 20.  How would you open a file and read its contents using a context manager in Python.\n",
        "with open('my_file.txt', 'r') as file:\n",
        "    content = file.read()\n",
        "    print(content)\n"
      ],
      "metadata": {
        "colab": {
          "base_uri": "https://localhost:8080/"
        },
        "id": "AdYFHgojF5NM",
        "outputId": "4396dc92-ab60-4d9c-ec91-78c2b6c3d14b"
      },
      "execution_count": 27,
      "outputs": [
        {
          "output_type": "stream",
          "name": "stdout",
          "text": [
            "Hello, world!\n",
            "This is appended data.\n",
            "\n"
          ]
        }
      ]
    },
    {
      "cell_type": "code",
      "source": [
        "# 21. Write a Python program that reads a file and prints the number of occurrences of a specific word.\n",
        "word_to_count = \"hello\"\n",
        "word_count = 0\n",
        "with open('my_file.txt', 'r') as file:\n",
        "    for line in file:\n",
        "        words = line.split()\n"
      ],
      "metadata": {
        "id": "F65mn1EAGCiN"
      },
      "execution_count": 28,
      "outputs": []
    },
    {
      "cell_type": "code",
      "source": [
        "# 22.  How can you check if a file is empty before attempting to read its contents.\n",
        "import os\n",
        "\n",
        "if os.path.getsize('my_file.txt') > 0:\n",
        "    with open('my_file.txt', 'r') as file:\n",
        "        content = file.read()\n",
        "        print(content)\n"
      ],
      "metadata": {
        "colab": {
          "base_uri": "https://localhost:8080/"
        },
        "id": "4PsIMghfGJw_",
        "outputId": "3be2624b-ed51-4a05-d85d-c8c96caafe13"
      },
      "execution_count": 29,
      "outputs": [
        {
          "output_type": "stream",
          "name": "stdout",
          "text": [
            "Hello, world!\n",
            "This is appended data.\n",
            "\n"
          ]
        }
      ]
    },
    {
      "cell_type": "code",
      "source": [
        "#23  Write a Python program that writes to a log file when an error occurs during file handling.\n",
        "import logging\n",
        "\n",
        "logging.basicConfig(filename='error.log', level=logging.ERROR)\n",
        "\n",
        "try:\n",
        "    file = open('nonexistent_file.txt', 'r')\n",
        "except FileNotFoundError:\n",
        "    logging.error(\"File not found error occurred\")\n"
      ],
      "metadata": {
        "colab": {
          "base_uri": "https://localhost:8080/"
        },
        "id": "yFJbukJFGVj8",
        "outputId": "d59b7f05-103a-4ac2-fcf7-c64da72fee85"
      },
      "execution_count": 30,
      "outputs": [
        {
          "output_type": "stream",
          "name": "stderr",
          "text": [
            "ERROR:root:File not found error occurred\n"
          ]
        }
      ]
    },
    {
      "cell_type": "code",
      "source": [],
      "metadata": {
        "id": "BZA8qVQ2Gd37"
      },
      "execution_count": null,
      "outputs": []
    }
  ]
}